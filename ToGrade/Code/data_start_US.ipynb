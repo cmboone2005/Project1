{
 "cells": [
  {
   "cell_type": "code",
<<<<<<< HEAD
   "execution_count": 17,
=======
   "execution_count": 28,
>>>>>>> de002fe313e787d984ce260d2830b89636da4bf4
   "metadata": {},
   "outputs": [],
   "source": [
    "#import dependencies\n",
    "import pandas as pd\n",
    "import numpy as np\n",
<<<<<<< HEAD
    "import matplotlib.pyplot as plt"
=======
    "import matplotlib.pyplot as plt\n",
    "import scipy.stats as st"
>>>>>>> de002fe313e787d984ce260d2830b89636da4bf4
   ]
  },
  {
   "cell_type": "code",
<<<<<<< HEAD
   "execution_count": 18,
   "metadata": {},
   "outputs": [],
   "source": [
    "data_exports_load = \"exports_conversion.csv\"\n",
    "data_imports_load= \"imports_conversion.csv\"\n",
    "per_capita_load = 'percapita_gdp.csv'\n",
    "pct_gdp_load = 'pct_gdp.csv'"
=======
   "execution_count": 10,
   "metadata": {},
   "outputs": [],
   "source": [
    "data_exports_load = \"../Data_Sets/exports_conversion.csv\"\n",
    "data_imports_load= \"../Data_Sets/imports_conversion.csv\"\n",
    "per_capita_load = '../Data_Sets/percapita_gdp.csv'\n",
    "pct_gdp_load = '../Data_Sets/pct_gdp.csv'"
>>>>>>> de002fe313e787d984ce260d2830b89636da4bf4
   ]
  },
  {
   "cell_type": "code",
<<<<<<< HEAD
   "execution_count": 19,
=======
   "execution_count": 11,
>>>>>>> de002fe313e787d984ce260d2830b89636da4bf4
   "metadata": {},
   "outputs": [
    {
     "data": {
      "text/html": [
       "<div>\n",
       "<style scoped>\n",
       "    .dataframe tbody tr th:only-of-type {\n",
       "        vertical-align: middle;\n",
       "    }\n",
       "\n",
       "    .dataframe tbody tr th {\n",
       "        vertical-align: top;\n",
       "    }\n",
       "\n",
       "    .dataframe thead th {\n",
       "        text-align: right;\n",
       "    }\n",
       "</style>\n",
       "<table border=\"1\" class=\"dataframe\">\n",
       "  <thead>\n",
       "    <tr style=\"text-align: right;\">\n",
       "      <th></th>\n",
       "      <th>Unnamed: 0</th>\n",
       "      <th>COMMODITY_DESC</th>\n",
       "      <th>GEOGRAPHY_DESC</th>\n",
       "      <th>UNIT_DESC</th>\n",
       "      <th>YEAR_ID</th>\n",
       "      <th>AMOUNT</th>\n",
       "      <th>Metric Tons</th>\n",
       "    </tr>\n",
       "  </thead>\n",
       "  <tbody>\n",
       "    <tr>\n",
       "      <th>0</th>\n",
       "      <td>19094</td>\n",
       "      <td>Chicken</td>\n",
       "      <td>Afghanistan</td>\n",
       "      <td>KG</td>\n",
       "      <td>2006</td>\n",
       "      <td>9.862200e+05</td>\n",
       "      <td>986.220000</td>\n",
       "    </tr>\n",
       "    <tr>\n",
       "      <th>1</th>\n",
       "      <td>19095</td>\n",
       "      <td>Chicken</td>\n",
       "      <td>Afghanistan</td>\n",
       "      <td>KG</td>\n",
       "      <td>2006</td>\n",
       "      <td>9.810000e+04</td>\n",
       "      <td>98.100000</td>\n",
       "    </tr>\n",
       "    <tr>\n",
       "      <th>2</th>\n",
       "      <td>19096</td>\n",
       "      <td>Chicken</td>\n",
       "      <td>Afghanistan</td>\n",
       "      <td>KG</td>\n",
       "      <td>2006</td>\n",
       "      <td>5.490000e+04</td>\n",
       "      <td>54.900000</td>\n",
       "    </tr>\n",
       "    <tr>\n",
       "      <th>3</th>\n",
       "      <td>19097</td>\n",
       "      <td>Chicken</td>\n",
       "      <td>Afghanistan</td>\n",
       "      <td>KG</td>\n",
       "      <td>2006</td>\n",
       "      <td>7.537550e+05</td>\n",
       "      <td>753.755000</td>\n",
       "    </tr>\n",
       "    <tr>\n",
       "      <th>4</th>\n",
       "      <td>19242</td>\n",
       "      <td>Chicken</td>\n",
       "      <td>Afghanistan</td>\n",
       "      <td>CWE</td>\n",
       "      <td>2006</td>\n",
       "      <td>3.770924e+06</td>\n",
       "      <td>171049.128969</td>\n",
       "    </tr>\n",
       "    <tr>\n",
       "      <th>...</th>\n",
       "      <td>...</td>\n",
       "      <td>...</td>\n",
       "      <td>...</td>\n",
       "      <td>...</td>\n",
       "      <td>...</td>\n",
       "      <td>...</td>\n",
       "      <td>...</td>\n",
       "    </tr>\n",
       "    <tr>\n",
       "      <th>528013</th>\n",
       "      <td>975181</td>\n",
       "      <td>Chicken</td>\n",
       "      <td>Zimbabwe</td>\n",
       "      <td>KG</td>\n",
       "      <td>2012</td>\n",
       "      <td>2.444340e+05</td>\n",
       "      <td>244.434000</td>\n",
       "    </tr>\n",
       "    <tr>\n",
       "      <th>528014</th>\n",
       "      <td>128517</td>\n",
       "      <td>Beef</td>\n",
       "      <td>Zimbabwe</td>\n",
       "      <td>CWE</td>\n",
       "      <td>2013</td>\n",
       "      <td>8.240015e+04</td>\n",
       "      <td>3737.670772</td>\n",
       "    </tr>\n",
       "    <tr>\n",
       "      <th>528015</th>\n",
       "      <td>399936</td>\n",
       "      <td>Beef</td>\n",
       "      <td>Zimbabwe</td>\n",
       "      <td>KG</td>\n",
       "      <td>2013</td>\n",
       "      <td>2.630300e+04</td>\n",
       "      <td>26.303000</td>\n",
       "    </tr>\n",
       "    <tr>\n",
       "      <th>528016</th>\n",
       "      <td>565085</td>\n",
       "      <td>Beef</td>\n",
       "      <td>Zimbabwe</td>\n",
       "      <td>KG</td>\n",
       "      <td>2013</td>\n",
       "      <td>2.630300e+04</td>\n",
       "      <td>26.303000</td>\n",
       "    </tr>\n",
       "    <tr>\n",
       "      <th>528017</th>\n",
       "      <td>816466</td>\n",
       "      <td>Beef</td>\n",
       "      <td>Zimbabwe</td>\n",
       "      <td>CWE</td>\n",
       "      <td>2013</td>\n",
       "      <td>8.240015e+04</td>\n",
       "      <td>3737.670772</td>\n",
       "    </tr>\n",
       "  </tbody>\n",
       "</table>\n",
       "<p>528018 rows × 7 columns</p>\n",
       "</div>"
      ],
      "text/plain": [
       "        Unnamed: 0 COMMODITY_DESC GEOGRAPHY_DESC UNIT_DESC  YEAR_ID  \\\n",
       "0            19094        Chicken    Afghanistan        KG     2006   \n",
       "1            19095        Chicken    Afghanistan        KG     2006   \n",
       "2            19096        Chicken    Afghanistan        KG     2006   \n",
       "3            19097        Chicken    Afghanistan        KG     2006   \n",
       "4            19242        Chicken    Afghanistan       CWE     2006   \n",
       "...            ...            ...            ...       ...      ...   \n",
       "528013      975181        Chicken       Zimbabwe        KG     2012   \n",
       "528014      128517           Beef       Zimbabwe       CWE     2013   \n",
       "528015      399936           Beef       Zimbabwe        KG     2013   \n",
       "528016      565085           Beef       Zimbabwe        KG     2013   \n",
       "528017      816466           Beef       Zimbabwe       CWE     2013   \n",
       "\n",
       "              AMOUNT    Metric Tons  \n",
       "0       9.862200e+05     986.220000  \n",
       "1       9.810000e+04      98.100000  \n",
       "2       5.490000e+04      54.900000  \n",
       "3       7.537550e+05     753.755000  \n",
       "4       3.770924e+06  171049.128969  \n",
       "...              ...            ...  \n",
       "528013  2.444340e+05     244.434000  \n",
       "528014  8.240015e+04    3737.670772  \n",
       "528015  2.630300e+04      26.303000  \n",
       "528016  2.630300e+04      26.303000  \n",
       "528017  8.240015e+04    3737.670772  \n",
       "\n",
       "[528018 rows x 7 columns]"
      ]
     },
<<<<<<< HEAD
     "execution_count": 19,
=======
     "execution_count": 11,
>>>>>>> de002fe313e787d984ce260d2830b89636da4bf4
     "metadata": {},
     "output_type": "execute_result"
    }
   ],
   "source": [
    "pct_gdp=pd.read_csv(pct_gdp_load)\n",
    "per_capita_gdp=pd.read_csv(per_capita_load)\n",
    "data_exports = pd.read_csv(data_exports_load)\n",
    "data_imports = pd.read_csv(data_imports_load)\n",
    "data_exports"
   ]
  },
  {
   "cell_type": "code",
<<<<<<< HEAD
   "execution_count": 20,
=======
   "execution_count": 12,
>>>>>>> de002fe313e787d984ce260d2830b89636da4bf4
   "metadata": {},
   "outputs": [
    {
     "data": {
      "text/plain": [
       "array(['Chicken', 'Pork', 'Beef', 'Turkey', 'Sheep', 'Goat'], dtype=object)"
      ]
     },
<<<<<<< HEAD
     "execution_count": 20,
=======
     "execution_count": 12,
>>>>>>> de002fe313e787d984ce260d2830b89636da4bf4
     "metadata": {},
     "output_type": "execute_result"
    }
   ],
   "source": [
    "commodity=data_exports.COMMODITY_DESC.unique()\n",
    "commodity"
   ]
  },
  {
   "cell_type": "code",
<<<<<<< HEAD
   "execution_count": 21,
=======
   "execution_count": 13,
>>>>>>> de002fe313e787d984ce260d2830b89636da4bf4
   "metadata": {},
   "outputs": [
    {
     "data": {
      "text/plain": [
       "array(['Beef', 'Sheep',\n",
       "       'Animal livers except goose, prepared or preserved', 'Pork',\n",
       "       'Chicken', 'Goat',\n",
       "       'Shoulders and cuts, boned, cooked, airtight container 1 kg or more',\n",
       "       'Bison with bone in, fresh or chilled', 'Turkey',\n",
       "       'Bison meat, fresh or chilled, boneless',\n",
       "       'Shoulders and cuts, bone in, salted, in brine, dried or smoked',\n",
       "       'Shoulders and cuts thereof nesoi, prepared or preserved',\n",
       "       'Shoulders and cuts, boned, cooked, airtight container less than 1 kg',\n",
       "       'Cows, live, imported for dairy purposes, weigh 90 kg or more',\n",
       "       'Cows, live, imported for dairy purposes, weighing less than 90 kg',\n",
       "       'Cows, live, imported specially for dairy puposes, weighing  90 kg  or more each,',\n",
       "       'Cows, live, imported specially for dairy puposes, weighing less than 90 kg each,'],\n",
       "      dtype=object)"
      ]
     },
<<<<<<< HEAD
     "execution_count": 21,
=======
     "execution_count": 13,
>>>>>>> de002fe313e787d984ce260d2830b89636da4bf4
     "metadata": {},
     "output_type": "execute_result"
    }
   ],
   "source": [
    "imports=data_imports.COMMODITY_DESC.unique()\n",
    "imports"
   ]
  },
  {
   "cell_type": "code",
<<<<<<< HEAD
   "execution_count": 22,
=======
   "execution_count": 14,
>>>>>>> de002fe313e787d984ce260d2830b89636da4bf4
   "metadata": {},
   "outputs": [],
   "source": [
    "data_imports.loc[data_imports['COMMODITY_DESC'].str.contains('cow', case=False),'COMMODITY_DESC']='Beef'\n",
    "data_imports.loc[data_imports['COMMODITY_DESC'].str.contains('shoulder', case=False),'COMMODITY_DESC']='Beef'\n",
    "data_imports.loc[data_imports['COMMODITY_DESC'].str.contains('bison', case=False),'COMMODITY_DESC']='Beef'\n",
    "data_imports.loc[data_imports['COMMODITY_DESC'].str.contains('liver', case=False),'COMMODITY_DESC']='Chicken'"
   ]
  },
  {
   "cell_type": "code",
<<<<<<< HEAD
   "execution_count": 23,
=======
   "execution_count": 15,
>>>>>>> de002fe313e787d984ce260d2830b89636da4bf4
   "metadata": {},
   "outputs": [
    {
     "data": {
      "text/plain": [
       "array(['Beef', 'Sheep', 'Chicken', 'Pork', 'Goat', 'Turkey'], dtype=object)"
      ]
     },
<<<<<<< HEAD
     "execution_count": 23,
=======
     "execution_count": 15,
>>>>>>> de002fe313e787d984ce260d2830b89636da4bf4
     "metadata": {},
     "output_type": "execute_result"
    }
   ],
   "source": [
    "imports=data_imports.COMMODITY_DESC.unique()\n",
    "imports\n"
   ]
  },
  {
   "cell_type": "code",
<<<<<<< HEAD
   "execution_count": null,
   "metadata": {},
   "outputs": [],
   "source": []
  },
  {
   "cell_type": "code",
   "execution_count": 24,
=======
   "execution_count": 16,
>>>>>>> de002fe313e787d984ce260d2830b89636da4bf4
   "metadata": {},
   "outputs": [
    {
     "data": {
      "text/html": [
       "<div>\n",
       "<style scoped>\n",
       "    .dataframe tbody tr th:only-of-type {\n",
       "        vertical-align: middle;\n",
       "    }\n",
       "\n",
       "    .dataframe tbody tr th {\n",
       "        vertical-align: top;\n",
       "    }\n",
       "\n",
       "    .dataframe thead th {\n",
       "        text-align: right;\n",
       "    }\n",
       "</style>\n",
       "<table border=\"1\" class=\"dataframe\">\n",
       "  <thead>\n",
       "    <tr style=\"text-align: right;\">\n",
       "      <th></th>\n",
       "      <th>YEAR_ID</th>\n",
       "      <th>Metric Tons</th>\n",
       "    </tr>\n",
       "  </thead>\n",
       "  <tbody>\n",
       "    <tr>\n",
       "      <th>0</th>\n",
       "      <td>2006</td>\n",
       "      <td>137.101000</td>\n",
       "    </tr>\n",
       "    <tr>\n",
       "      <th>1</th>\n",
       "      <td>2006</td>\n",
       "      <td>87.009000</td>\n",
       "    </tr>\n",
       "    <tr>\n",
       "      <th>2</th>\n",
       "      <td>2006</td>\n",
       "      <td>9.386000</td>\n",
       "    </tr>\n",
       "    <tr>\n",
       "      <th>3</th>\n",
       "      <td>2006</td>\n",
       "      <td>19.475000</td>\n",
       "    </tr>\n",
       "    <tr>\n",
       "      <th>4</th>\n",
       "      <td>2006</td>\n",
       "      <td>122.693000</td>\n",
       "    </tr>\n",
       "    <tr>\n",
       "      <th>...</th>\n",
       "      <td>...</td>\n",
       "      <td>...</td>\n",
       "    </tr>\n",
       "    <tr>\n",
       "      <th>96704</th>\n",
       "      <td>2016</td>\n",
       "      <td>22546.772899</td>\n",
       "    </tr>\n",
       "    <tr>\n",
       "      <th>96705</th>\n",
       "      <td>2016</td>\n",
       "      <td>28264.267461</td>\n",
       "    </tr>\n",
       "    <tr>\n",
       "      <th>96706</th>\n",
       "      <td>2016</td>\n",
       "      <td>18668.108750</td>\n",
       "    </tr>\n",
       "    <tr>\n",
       "      <th>96707</th>\n",
       "      <td>2016</td>\n",
       "      <td>28945.478727</td>\n",
       "    </tr>\n",
       "    <tr>\n",
       "      <th>96708</th>\n",
       "      <td>2016</td>\n",
       "      <td>38032.829022</td>\n",
       "    </tr>\n",
       "  </tbody>\n",
       "</table>\n",
       "<p>96709 rows × 2 columns</p>\n",
       "</div>"
      ],
      "text/plain": [
       "       YEAR_ID   Metric Tons\n",
       "0         2006    137.101000\n",
       "1         2006     87.009000\n",
       "2         2006      9.386000\n",
       "3         2006     19.475000\n",
       "4         2006    122.693000\n",
       "...        ...           ...\n",
       "96704     2016  22546.772899\n",
       "96705     2016  28264.267461\n",
       "96706     2016  18668.108750\n",
       "96707     2016  28945.478727\n",
       "96708     2016  38032.829022\n",
       "\n",
       "[96709 rows x 2 columns]"
      ]
     },
<<<<<<< HEAD
     "execution_count": 24,
=======
     "execution_count": 16,
>>>>>>> de002fe313e787d984ce260d2830b89636da4bf4
     "metadata": {},
     "output_type": "execute_result"
    }
   ],
   "source": [
    "table_new_imports = data_imports.loc[:,['YEAR_ID','Metric Tons']]\n",
    "table_new_imports"
   ]
  },
  {
   "cell_type": "code",
<<<<<<< HEAD
   "execution_count": 25,
=======
   "execution_count": 17,
>>>>>>> de002fe313e787d984ce260d2830b89636da4bf4
   "metadata": {},
   "outputs": [
    {
     "data": {
      "text/html": [
       "<div>\n",
       "<style scoped>\n",
       "    .dataframe tbody tr th:only-of-type {\n",
       "        vertical-align: middle;\n",
       "    }\n",
       "\n",
       "    .dataframe tbody tr th {\n",
       "        vertical-align: top;\n",
       "    }\n",
       "\n",
       "    .dataframe thead th {\n",
       "        text-align: right;\n",
       "    }\n",
       "</style>\n",
       "<table border=\"1\" class=\"dataframe\">\n",
       "  <thead>\n",
       "    <tr style=\"text-align: right;\">\n",
       "      <th></th>\n",
       "      <th>Metric Tons</th>\n",
       "    </tr>\n",
       "    <tr>\n",
       "      <th>YEAR_ID</th>\n",
       "      <th></th>\n",
       "    </tr>\n",
       "  </thead>\n",
       "  <tbody>\n",
       "    <tr>\n",
       "      <th>2006</th>\n",
       "      <td>8.388916e+08</td>\n",
       "    </tr>\n",
       "    <tr>\n",
       "      <th>2007</th>\n",
       "      <td>8.411989e+08</td>\n",
       "    </tr>\n",
       "    <tr>\n",
       "      <th>2008</th>\n",
       "      <td>7.182489e+08</td>\n",
       "    </tr>\n",
       "    <tr>\n",
       "      <th>2009</th>\n",
       "      <td>7.216136e+08</td>\n",
       "    </tr>\n",
       "    <tr>\n",
       "      <th>2010</th>\n",
       "      <td>6.648807e+08</td>\n",
       "    </tr>\n",
       "    <tr>\n",
       "      <th>2011</th>\n",
       "      <td>6.081964e+08</td>\n",
       "    </tr>\n",
       "    <tr>\n",
       "      <th>2012</th>\n",
       "      <td>6.373839e+08</td>\n",
       "    </tr>\n",
       "    <tr>\n",
       "      <th>2013</th>\n",
       "      <td>6.582723e+08</td>\n",
       "    </tr>\n",
       "    <tr>\n",
       "      <th>2014</th>\n",
       "      <td>8.160736e+08</td>\n",
       "    </tr>\n",
       "    <tr>\n",
       "      <th>2015</th>\n",
       "      <td>9.230333e+08</td>\n",
       "    </tr>\n",
       "    <tr>\n",
       "      <th>2016</th>\n",
       "      <td>6.188682e+08</td>\n",
       "    </tr>\n",
       "  </tbody>\n",
       "</table>\n",
       "</div>"
      ],
      "text/plain": [
       "          Metric Tons\n",
       "YEAR_ID              \n",
       "2006     8.388916e+08\n",
       "2007     8.411989e+08\n",
       "2008     7.182489e+08\n",
       "2009     7.216136e+08\n",
       "2010     6.648807e+08\n",
       "2011     6.081964e+08\n",
       "2012     6.373839e+08\n",
       "2013     6.582723e+08\n",
       "2014     8.160736e+08\n",
       "2015     9.230333e+08\n",
       "2016     6.188682e+08"
      ]
     },
<<<<<<< HEAD
     "execution_count": 25,
=======
     "execution_count": 17,
>>>>>>> de002fe313e787d984ce260d2830b89636da4bf4
     "metadata": {},
     "output_type": "execute_result"
    }
   ],
   "source": [
    "years_data=table_new_imports.groupby([\"YEAR_ID\"]).sum()\n",
    "years_data"
   ]
  },
  {
   "cell_type": "code",
<<<<<<< HEAD
   "execution_count": 26,
=======
   "execution_count": 18,
>>>>>>> de002fe313e787d984ce260d2830b89636da4bf4
   "metadata": {},
   "outputs": [
    {
     "data": {
      "text/html": [
       "<div>\n",
       "<style scoped>\n",
       "    .dataframe tbody tr th:only-of-type {\n",
       "        vertical-align: middle;\n",
       "    }\n",
       "\n",
       "    .dataframe tbody tr th {\n",
       "        vertical-align: top;\n",
       "    }\n",
       "\n",
       "    .dataframe thead th {\n",
       "        text-align: right;\n",
       "    }\n",
       "</style>\n",
       "<table border=\"1\" class=\"dataframe\">\n",
       "  <thead>\n",
       "    <tr style=\"text-align: right;\">\n",
       "      <th></th>\n",
       "      <th>YEAR_ID</th>\n",
       "      <th>Metric Tons</th>\n",
       "    </tr>\n",
       "  </thead>\n",
       "  <tbody>\n",
       "    <tr>\n",
       "      <th>0</th>\n",
       "      <td>2006</td>\n",
       "      <td>986.220000</td>\n",
       "    </tr>\n",
       "    <tr>\n",
       "      <th>1</th>\n",
       "      <td>2006</td>\n",
       "      <td>98.100000</td>\n",
       "    </tr>\n",
       "    <tr>\n",
       "      <th>2</th>\n",
       "      <td>2006</td>\n",
       "      <td>54.900000</td>\n",
       "    </tr>\n",
       "    <tr>\n",
       "      <th>3</th>\n",
       "      <td>2006</td>\n",
       "      <td>753.755000</td>\n",
       "    </tr>\n",
       "    <tr>\n",
       "      <th>4</th>\n",
       "      <td>2006</td>\n",
       "      <td>171049.128969</td>\n",
       "    </tr>\n",
       "    <tr>\n",
       "      <th>...</th>\n",
       "      <td>...</td>\n",
       "      <td>...</td>\n",
       "    </tr>\n",
       "    <tr>\n",
       "      <th>528013</th>\n",
       "      <td>2012</td>\n",
       "      <td>244.434000</td>\n",
       "    </tr>\n",
       "    <tr>\n",
       "      <th>528014</th>\n",
       "      <td>2013</td>\n",
       "      <td>3737.670772</td>\n",
       "    </tr>\n",
       "    <tr>\n",
       "      <th>528015</th>\n",
       "      <td>2013</td>\n",
       "      <td>26.303000</td>\n",
       "    </tr>\n",
       "    <tr>\n",
       "      <th>528016</th>\n",
       "      <td>2013</td>\n",
       "      <td>26.303000</td>\n",
       "    </tr>\n",
       "    <tr>\n",
       "      <th>528017</th>\n",
       "      <td>2013</td>\n",
       "      <td>3737.670772</td>\n",
       "    </tr>\n",
       "  </tbody>\n",
       "</table>\n",
       "<p>528018 rows × 2 columns</p>\n",
       "</div>"
      ],
      "text/plain": [
       "        YEAR_ID    Metric Tons\n",
       "0          2006     986.220000\n",
       "1          2006      98.100000\n",
       "2          2006      54.900000\n",
       "3          2006     753.755000\n",
       "4          2006  171049.128969\n",
       "...         ...            ...\n",
       "528013     2012     244.434000\n",
       "528014     2013    3737.670772\n",
       "528015     2013      26.303000\n",
       "528016     2013      26.303000\n",
       "528017     2013    3737.670772\n",
       "\n",
       "[528018 rows x 2 columns]"
      ]
     },
<<<<<<< HEAD
     "execution_count": 26,
=======
     "execution_count": 18,
>>>>>>> de002fe313e787d984ce260d2830b89636da4bf4
     "metadata": {},
     "output_type": "execute_result"
    }
   ],
   "source": [
    "table_new_exports = data_exports.loc[:,['YEAR_ID','Metric Tons']]\n",
    "table_new_exports"
   ]
  },
  {
   "cell_type": "code",
<<<<<<< HEAD
   "execution_count": 27,
=======
   "execution_count": 19,
>>>>>>> de002fe313e787d984ce260d2830b89636da4bf4
   "metadata": {},
   "outputs": [
    {
     "data": {
      "text/html": [
       "<div>\n",
       "<style scoped>\n",
       "    .dataframe tbody tr th:only-of-type {\n",
       "        vertical-align: middle;\n",
       "    }\n",
       "\n",
       "    .dataframe tbody tr th {\n",
       "        vertical-align: top;\n",
       "    }\n",
       "\n",
       "    .dataframe thead th {\n",
       "        text-align: right;\n",
       "    }\n",
       "</style>\n",
       "<table border=\"1\" class=\"dataframe\">\n",
       "  <thead>\n",
       "    <tr style=\"text-align: right;\">\n",
       "      <th></th>\n",
       "      <th>Metric Tons</th>\n",
       "    </tr>\n",
       "    <tr>\n",
       "      <th>YEAR_ID</th>\n",
       "      <th></th>\n",
       "    </tr>\n",
       "  </thead>\n",
       "  <tbody>\n",
       "    <tr>\n",
       "      <th>2006</th>\n",
       "      <td>1.833618e+09</td>\n",
       "    </tr>\n",
       "    <tr>\n",
       "      <th>2007</th>\n",
       "      <td>2.037404e+09</td>\n",
       "    </tr>\n",
       "    <tr>\n",
       "      <th>2008</th>\n",
       "      <td>2.631688e+09</td>\n",
       "    </tr>\n",
       "    <tr>\n",
       "      <th>2009</th>\n",
       "      <td>2.454298e+09</td>\n",
       "    </tr>\n",
       "    <tr>\n",
       "      <th>2010</th>\n",
       "      <td>2.536776e+09</td>\n",
       "    </tr>\n",
       "    <tr>\n",
       "      <th>2011</th>\n",
       "      <td>2.867232e+09</td>\n",
       "    </tr>\n",
       "    <tr>\n",
       "      <th>2012</th>\n",
       "      <td>2.910035e+09</td>\n",
       "    </tr>\n",
       "    <tr>\n",
       "      <th>2013</th>\n",
       "      <td>2.868072e+09</td>\n",
       "    </tr>\n",
       "    <tr>\n",
       "      <th>2014</th>\n",
       "      <td>2.884786e+09</td>\n",
       "    </tr>\n",
       "    <tr>\n",
       "      <th>2015</th>\n",
       "      <td>2.596649e+09</td>\n",
       "    </tr>\n",
       "    <tr>\n",
       "      <th>2016</th>\n",
       "      <td>2.760425e+09</td>\n",
       "    </tr>\n",
       "  </tbody>\n",
       "</table>\n",
       "</div>"
      ],
      "text/plain": [
       "          Metric Tons\n",
       "YEAR_ID              \n",
       "2006     1.833618e+09\n",
       "2007     2.037404e+09\n",
       "2008     2.631688e+09\n",
       "2009     2.454298e+09\n",
       "2010     2.536776e+09\n",
       "2011     2.867232e+09\n",
       "2012     2.910035e+09\n",
       "2013     2.868072e+09\n",
       "2014     2.884786e+09\n",
       "2015     2.596649e+09\n",
       "2016     2.760425e+09"
      ]
     },
<<<<<<< HEAD
     "execution_count": 27,
=======
     "execution_count": 19,
>>>>>>> de002fe313e787d984ce260d2830b89636da4bf4
     "metadata": {},
     "output_type": "execute_result"
    }
   ],
   "source": [
    "years_data_2=table_new_exports.groupby([\"YEAR_ID\"]).sum()\n",
    "years_data_2"
   ]
  },
  {
   "cell_type": "code",
<<<<<<< HEAD
   "execution_count": 12,
   "metadata": {
    "scrolled": true
   },
   "outputs": [
    {
     "data": {
      "text/plain": [
       "<function matplotlib.pyplot.show(*args, **kw)>"
      ]
     },
     "execution_count": 12,
     "metadata": {},
     "output_type": "execute_result"
    },
    {
     "data": {
      "image/png": "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\n",
      "text/plain": [
       "<Figure size 576x432 with 1 Axes>"
      ]
     },
     "metadata": {
      "needs_background": "light"
     },
     "output_type": "display_data"
    },
    {
     "data": {
      "image/png": "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\n",
      "text/plain": [
       "<Figure size 576x432 with 1 Axes>"
      ]
     },
     "metadata": {
      "needs_background": "light"
     },
     "output_type": "display_data"
    }
   ],
   "source": [
    "ax = years_data.plot(figsize=(8,6), legend = False)\n",
    "#ax.set_prop_cycle(None)\n",
    "years_data.plot(figsize=(8,6), markersize=14, ax = ax)\n",
    "ax = years_data_2.plot(figsize=(8,6), legend = False)\n",
    "#ax.set_prop_cycle(None)\n",
    "years_data_2.plot(figsize=(8,6), markersize=14, ax = ax)\n",
    "\n",
    "#ax = years_data.plot(figsize=(12,8), y=years_data_2, legend = False)\n",
    "plt.show"
   ]
  },
  {
   "cell_type": "code",
   "execution_count": 13,
   "metadata": {},
   "outputs": [
    {
     "data": {
      "text/plain": [
       "<function matplotlib.pyplot.show(*args, **kw)>"
      ]
     },
     "execution_count": 13,
     "metadata": {},
     "output_type": "execute_result"
    },
    {
     "data": {
      "image/png": "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\n",
      "text/plain": [
       "<Figure size 576x432 with 1 Axes>"
      ]
     },
     "metadata": {
      "needs_background": "light"
     },
     "output_type": "display_data"
    }
   ],
   "source": [
    "ax = years_data_2.plot(figsize=(8,6), legend = False)\n",
    "#ax.set_prop_cycle(None)\n",
    "years_data_2.plot(figsize=(8,6), markersize=14, ax = ax)\n",
    "\n",
    "#ax = years_data.plot(figsize=(12,8), y=years_data_2, legend = False)\n",
    "plt.show"
   ]
  },
  {
   "cell_type": "code",
   "execution_count": 28,
=======
   "execution_count": 21,
>>>>>>> de002fe313e787d984ce260d2830b89636da4bf4
   "metadata": {},
   "outputs": [
    {
     "data": {
      "text/html": [
       "<div>\n",
       "<style scoped>\n",
       "    .dataframe tbody tr th:only-of-type {\n",
       "        vertical-align: middle;\n",
       "    }\n",
       "\n",
       "    .dataframe tbody tr th {\n",
       "        vertical-align: top;\n",
       "    }\n",
       "\n",
       "    .dataframe thead th {\n",
       "        text-align: right;\n",
       "    }\n",
       "</style>\n",
       "<table border=\"1\" class=\"dataframe\">\n",
       "  <thead>\n",
       "    <tr style=\"text-align: right;\">\n",
       "      <th></th>\n",
       "      <th>Imports</th>\n",
       "      <th>Exports</th>\n",
       "    </tr>\n",
       "    <tr>\n",
       "      <th>YEAR_ID</th>\n",
       "      <th></th>\n",
       "      <th></th>\n",
       "    </tr>\n",
       "  </thead>\n",
       "  <tbody>\n",
       "    <tr>\n",
       "      <th>2006</th>\n",
       "      <td>8.388916e+08</td>\n",
       "      <td>1.833618e+09</td>\n",
       "    </tr>\n",
       "    <tr>\n",
       "      <th>2007</th>\n",
       "      <td>8.411989e+08</td>\n",
       "      <td>2.037404e+09</td>\n",
       "    </tr>\n",
       "    <tr>\n",
       "      <th>2008</th>\n",
       "      <td>7.182489e+08</td>\n",
       "      <td>2.631688e+09</td>\n",
       "    </tr>\n",
       "    <tr>\n",
       "      <th>2009</th>\n",
       "      <td>7.216136e+08</td>\n",
       "      <td>2.454298e+09</td>\n",
       "    </tr>\n",
       "    <tr>\n",
       "      <th>2010</th>\n",
       "      <td>6.648807e+08</td>\n",
       "      <td>2.536776e+09</td>\n",
       "    </tr>\n",
       "    <tr>\n",
       "      <th>2011</th>\n",
       "      <td>6.081964e+08</td>\n",
       "      <td>2.867232e+09</td>\n",
       "    </tr>\n",
       "    <tr>\n",
       "      <th>2012</th>\n",
       "      <td>6.373839e+08</td>\n",
       "      <td>2.910035e+09</td>\n",
       "    </tr>\n",
       "    <tr>\n",
       "      <th>2013</th>\n",
       "      <td>6.582723e+08</td>\n",
       "      <td>2.868072e+09</td>\n",
       "    </tr>\n",
       "    <tr>\n",
       "      <th>2014</th>\n",
       "      <td>8.160736e+08</td>\n",
       "      <td>2.884786e+09</td>\n",
       "    </tr>\n",
       "    <tr>\n",
       "      <th>2015</th>\n",
       "      <td>9.230333e+08</td>\n",
       "      <td>2.596649e+09</td>\n",
       "    </tr>\n",
       "    <tr>\n",
       "      <th>2016</th>\n",
       "      <td>6.188682e+08</td>\n",
       "      <td>2.760425e+09</td>\n",
       "    </tr>\n",
       "  </tbody>\n",
       "</table>\n",
       "</div>"
      ],
      "text/plain": [
       "              Imports       Exports\n",
       "YEAR_ID                            \n",
       "2006     8.388916e+08  1.833618e+09\n",
       "2007     8.411989e+08  2.037404e+09\n",
       "2008     7.182489e+08  2.631688e+09\n",
       "2009     7.216136e+08  2.454298e+09\n",
       "2010     6.648807e+08  2.536776e+09\n",
       "2011     6.081964e+08  2.867232e+09\n",
       "2012     6.373839e+08  2.910035e+09\n",
       "2013     6.582723e+08  2.868072e+09\n",
       "2014     8.160736e+08  2.884786e+09\n",
       "2015     9.230333e+08  2.596649e+09\n",
       "2016     6.188682e+08  2.760425e+09"
      ]
     },
<<<<<<< HEAD
     "execution_count": 28,
=======
     "execution_count": 21,
>>>>>>> de002fe313e787d984ce260d2830b89636da4bf4
     "metadata": {},
     "output_type": "execute_result"
    }
   ],
   "source": [
    "merged_data=years_data.merge(years_data_2, on = \"YEAR_ID\")\n",
    "merged_data=merged_data.rename(columns={\"Metric Tons_x\": \"Imports\",\"Metric Tons_y\":\"Exports\"})\n",
    "\n",
    "merged_data"
   ]
  },
  {
   "cell_type": "code",
<<<<<<< HEAD
   "execution_count": 29,
=======
   "execution_count": 22,
>>>>>>> de002fe313e787d984ce260d2830b89636da4bf4
   "metadata": {},
   "outputs": [
    {
     "data": {
      "image/png": "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\n",
      "text/plain": [
       "<Figure size 432x288 with 1 Axes>"
      ]
     },
     "metadata": {
      "needs_background": "light"
     },
     "output_type": "display_data"
    }
   ],
   "source": [
    "plt.plot(merged_data.index, merged_data['Imports'], label=\"Imports\")\n",
    "plt.plot(merged_data.index, merged_data['Exports'], label=\"Exports\")\n",
    "\n",
    "\n",
    "plt.title(\"US Agricultural Trade\")\n",
    "plt.xlabel(\"Year\")\n",
    "plt.ylabel(\"Volume in Metric Tons\")\n",
    "plt.legend()\n",
    "plt.savefig(\"Aggregate_Trade.png\")\n",
    "plt.show()"
   ]
  },
  {
   "cell_type": "code",
<<<<<<< HEAD
   "execution_count": 30,
=======
   "execution_count": 23,
>>>>>>> de002fe313e787d984ce260d2830b89636da4bf4
   "metadata": {},
   "outputs": [
    {
     "data": {
      "text/html": [
       "<div>\n",
       "<style scoped>\n",
       "    .dataframe tbody tr th:only-of-type {\n",
       "        vertical-align: middle;\n",
       "    }\n",
       "\n",
       "    .dataframe tbody tr th {\n",
       "        vertical-align: top;\n",
       "    }\n",
       "\n",
       "    .dataframe thead th {\n",
       "        text-align: right;\n",
       "    }\n",
       "</style>\n",
       "<table border=\"1\" class=\"dataframe\">\n",
       "  <thead>\n",
       "    <tr style=\"text-align: right;\">\n",
       "      <th></th>\n",
       "      <th>Imports</th>\n",
       "      <th>Exports</th>\n",
       "    </tr>\n",
       "    <tr>\n",
       "      <th>YEAR_ID</th>\n",
       "      <th></th>\n",
       "      <th></th>\n",
       "    </tr>\n",
       "  </thead>\n",
       "  <tbody>\n",
       "    <tr>\n",
       "      <th>2006</th>\n",
       "      <td>NaN</td>\n",
       "      <td>NaN</td>\n",
       "    </tr>\n",
       "    <tr>\n",
       "      <th>2007</th>\n",
       "      <td>0.002750</td>\n",
       "      <td>0.111139</td>\n",
       "    </tr>\n",
       "    <tr>\n",
       "      <th>2008</th>\n",
       "      <td>-0.146160</td>\n",
       "      <td>0.291687</td>\n",
       "    </tr>\n",
       "    <tr>\n",
       "      <th>2009</th>\n",
       "      <td>0.004685</td>\n",
       "      <td>-0.067406</td>\n",
       "    </tr>\n",
       "    <tr>\n",
       "      <th>2010</th>\n",
       "      <td>-0.078619</td>\n",
       "      <td>0.033606</td>\n",
       "    </tr>\n",
       "    <tr>\n",
       "      <th>2011</th>\n",
       "      <td>-0.085255</td>\n",
       "      <td>0.130266</td>\n",
       "    </tr>\n",
       "    <tr>\n",
       "      <th>2012</th>\n",
       "      <td>0.047990</td>\n",
       "      <td>0.014928</td>\n",
       "    </tr>\n",
       "    <tr>\n",
       "      <th>2013</th>\n",
       "      <td>0.032772</td>\n",
       "      <td>-0.014420</td>\n",
       "    </tr>\n",
       "    <tr>\n",
       "      <th>2014</th>\n",
       "      <td>0.239720</td>\n",
       "      <td>0.005828</td>\n",
       "    </tr>\n",
       "    <tr>\n",
       "      <th>2015</th>\n",
       "      <td>0.131066</td>\n",
       "      <td>-0.099882</td>\n",
       "    </tr>\n",
       "    <tr>\n",
       "      <th>2016</th>\n",
       "      <td>-0.329528</td>\n",
       "      <td>0.063072</td>\n",
       "    </tr>\n",
       "  </tbody>\n",
       "</table>\n",
       "</div>"
      ],
      "text/plain": [
       "          Imports   Exports\n",
       "YEAR_ID                    \n",
       "2006          NaN       NaN\n",
       "2007     0.002750  0.111139\n",
       "2008    -0.146160  0.291687\n",
       "2009     0.004685 -0.067406\n",
       "2010    -0.078619  0.033606\n",
       "2011    -0.085255  0.130266\n",
       "2012     0.047990  0.014928\n",
       "2013     0.032772 -0.014420\n",
       "2014     0.239720  0.005828\n",
       "2015     0.131066 -0.099882\n",
       "2016    -0.329528  0.063072"
      ]
     },
<<<<<<< HEAD
     "execution_count": 30,
=======
     "execution_count": 23,
>>>>>>> de002fe313e787d984ce260d2830b89636da4bf4
     "metadata": {},
     "output_type": "execute_result"
    }
   ],
   "source": [
    "pct_chg = merged_data.pct_change()\n",
    "pct_chg"
   ]
  },
  {
   "cell_type": "code",
<<<<<<< HEAD
   "execution_count": 31,
=======
   "execution_count": 24,
>>>>>>> de002fe313e787d984ce260d2830b89636da4bf4
   "metadata": {},
   "outputs": [
    {
     "data": {
      "image/png": "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\n",
      "text/plain": [
       "<Figure size 432x288 with 1 Axes>"
      ]
     },
     "metadata": {
      "needs_background": "light"
     },
     "output_type": "display_data"
    }
   ],
   "source": [
    "plt.plot(pct_chg.index, pct_chg['Imports'], label=\"% Imports Change\")\n",
    "plt.plot(pct_chg.index, pct_chg['Exports'], label=\"% Exports Change\")\n",
    "\n",
    "\n",
    "plt.title(\"US Agricultural Trade % Change Year over Year\")\n",
    "plt.xlabel(\"Year\")\n",
    "plt.ylabel(\"% Change\")\n",
    "plt.savefig(\"Percent_Change.png\")\n",
    "plt.legend()\n",
    "plt.show()"
   ]
  },
  {
   "cell_type": "code",
<<<<<<< HEAD
   "execution_count": 40,
=======
   "execution_count": 25,
>>>>>>> de002fe313e787d984ce260d2830b89636da4bf4
   "metadata": {},
   "outputs": [
    {
     "data": {
      "image/png": "iVBORw0KGgoAAAANSUhEUgAAAYoAAAEWCAYAAAB42tAoAAAABHNCSVQICAgIfAhkiAAAAAlwSFlzAAALEgAACxIB0t1+/AAAADh0RVh0U29mdHdhcmUAbWF0cGxvdGxpYiB2ZXJzaW9uMy4xLjEsIGh0dHA6Ly9tYXRwbG90bGliLm9yZy8QZhcZAAAgAElEQVR4nOydd3hU1daH35XeIIQeICS00HtoSpUWC4hYKBbsBax4i+2q13v57B17F6SIXjvSRUGkBAhIDT0EEkiA9J7Z3x/7BCchPTM5k+S8zzPPzJyy9zpnzpzf2XuvvZYopbCwsLCwsCgNN7MNsLCwsLBwbSyhsLCwsLAoE0soLCwsLCzKxBIKCwsLC4sysYTCwsLCwqJMLKGwsLCwsCgTSyjqKCKSLiLtq1nG0yIy31E2VaC+kSISV1P1lVB/nIiMNKv+0hCR+SLytNl2WNRfLKGoAiKiRKRjsWVFbqoi8piIHDFu2HEisrgC5a4VkXMi4l1dG5VSAUqpw9UtpxARCTOO28NRZVai7rbGeSx8KRHJsPs+rKZtKmZfqIhsFpGzIvJ8sXUrRaRvOfuLiDwoIruN44oTkcUi0t25ljsGEXETkQ0i8lix5beJSIyI+JplmzMRkdbGbz6k2PKFIvKJWXY5A0sonICIzABuBMYopQKACGB1OfuEAcMABUysRt01fiOvCMbNsErXm1Iq1hC+AON8AvS2W7auhPrcq2Vw5Xgc+ABoD1wnIn0MG64H9iqltpez/1vALOMVBIQDPwKXO81iB6KUsgG3Av8QkS4AItICeB64TSmV5ai6DFEy5b5V/L+llDoB/BP4SES8jG0uA0YAs51Zd01jCYVzGAAsV0odAlBKJSil3i9nn5uAjcCnwAz7FSLSRER+EJFUEdkiIv8VkfV265WIzBKRA8ABu2Udjc++IvKyiBwTkRQRWW8su6CrR0SOisiYEuz7zXhPNp7ih5TQiirS6jBaSHNE5HcgE2gvIreIyF4RSRORwyJyVznnpUIY3TNvicgyEckAhonIRBGJNuqKFZF/FdvnZuOcJInII8XWuRmtwkPG+kUiElRK9e2ANUqpZGCrcZyBwN+Bf5WyT2E9XYC7gClKqbVKqVylVKZSap5S6gW7TRuLyM/GsfwhIu3syphrtEIKr4+L7Nb913jCnW/su0tE+tmtj7A7R4tEZInYdXMZ53CHiCQb102Pko5DKbUPLQwfGTfyucCiQhE3rrfXROS4iCSIyJtitJxFpJlxbInGE/p3IhJsZ8NGEXlGRDahr6NWJZzHniKyzrBzp4hcaiwfafz2YrftNBHZbHx2F5F/Gddikoh8ISKNCn8bEckXkTtE5DiwtITj/gA4AfxLRAKAd4CZSqlzRhmhxn83ybiW7rCzY7jolmiKiJw0/qPuxroA4790t4gcAnaUdN5rDKWU9arkC/3U37HYsqeB+cbnG4Cz6BtFBOBegTIPAjOB/kAe0MJu3SLj5Qd0A44D64vZsxJoDPgWtxH9xLoWaA24AxcB3sBIIK6YHUfRLaHixxRmlOlR0jGXtI1RZyzQHfAAPNFPyR0AQT95ZQL9jO0vsKcS538+cA4Ygn4A8gYuAXoY33sDScAVxvY9gXTgYmPbN4B8YKSx/m/A78Y58wE+AuaVYs+rwN3o1sBhoItxzq+vwLHcCxwqZ5v5hu0RxjlcXOy832j89h7oJ9wTgLex7r9AFjDe+O1fLLx2jOOOM2zwBK5FX3tPG+sHAKeMd3d0q+EQ4FWKnR5AFPA/4zoKsFv3LvAV0AgIBJYDTxnrWgBXAr7Guu/QIlO470bjvHY27PQoVq8PcAx42Fg/3vht2xnX2XFgmN32PwAPGp8fAdahxccH/aD2ibGui3GtfYj+7/mWctxh6Gvvh2J2ewB77OzqYpzvocb6wcZv6g50Mo7xdmNdgFH398Y5KbHuGrvnmVl5bX1RjlAY368HVgEZwBngkTLKG2r8QZsa3/cBDxmf3Y11ne22/y8XCsUlJdmIvklmobtqitc7EucLxTPlnMtvgQdKs6cS538+8HE5+80FXjQ+P1PM9gCggL+E4gAwwm59CJADuJVQblNgCfqp737jz78KaIIW+N+Ae0qx6Sn737KUbeYD79p9nwjsKmVbAdKA7nbXyjK79b2AdOPzJUBssf038pdQfIBxM7dbfwi4uAxbexu/z+V2yzyAXKC13bJR6G65ksoYDMQXs+mxMuocixYKsVv2DcZ/DngJeNv43Bj9fwg2vh+xPx60uGQa57FQKFpV4Jp8GEgFmtktG138GIE5wJullPEExsMIfwnFwPLqromXS/Zn1wIK0E8I9niib+gAKKW+AL4QEU9gkvF5u1JqeQnlzQBWKKWSjO8LjGWvAs3Qf7Tjdtsf50JKWgb6JuaD/oObQRG7jC6Bp9D98G7oJ7U/nVTXEOBZdIvGC/0EvdBY3cp+e6VUuoictdu9LfCDiNjslimgOZBgX4/xu11r1OkGrAduQ49dbEP/ltEislopFVPM5jNAMOVjX2cm+kZSeJz/QD/tBxs2+qN/99L29Tc+t0I/4dpjfw5DgetF5CG7ZV7oVlZp7C72XliPJ7DbvgcI3YJDRBoArwNj0C0O0K2L0uwqTiu04NlHOD1mZ+cCYLmI3I/+ndYrpeKN7qgQYKmI2O/rhhZ5AJtS6mQZdReyGzitlEq0WxYKdBSRZLtl7sAyAKMb7yWgL/p4PYBfi5Vb1nHXGNYYRdWIRT8929MOfXEWQSmVp5RaAuxEd4MUQbRHyHXACKPvNgF4COgtIr2BRPQfqo3dbiEl2FRaGOAkIBvd3VOcDPSNutAWd7QwlURJ5RfZH2hZ1n5Gn/TX6D9HC6VUI3S/r5SwX1UobuMio74QpVQguguhsK547M6j0b/c2G7fOGCsUqqR3ctHKVVEJEpgJvCbUmovunsrSimVA+yihN8f7eQQJuV4RpWGiIxCD5xejb7JBqG7XSpyTuMpel1B0WvrOPDvYufATyn1ZSXNjEdfwx3syglUShXejB8x7BiglGoIjCvB/tKub4CTaGG3py26Cw6l1Da0II8BpqOFA0NYTqBb48V/58KHtrLqLY/j6JaffdkNlFLXGus/AjYD7Y3j/j8qd9w1hiUUVWMx8ISItDEGPccAE9B9sIWDpJeLSANj/aXop9pNJZQ1Cd1C6Qb0MV5d0f2mNymlCtB9vk+LiJ8x+HlTRQ1V2iPlY+AVEWllDN4NMW7aMYCPYasnuulbmmtuImBDe/YUEg0MF+2+Ggg8Wo45hU/1iUC+cV7GVfRYqkAD4KxSKltEBgNT7dYtAa60Oxf/peif8l3g/0SkLYCINBeRMr3RRKQlcCfwH2PREWCU8cTcH90HXQRDUN4HFovICBHxMgZ+p4vI3yt4jPnoBwJPdHegf1k72LEecBeRe0TEQ0SuNuws5H1glogMEE2AiEwQkYqWD+iHJfQ1+LqINDXKChGRsXbHkIl2lGiKvg4rwzrATbSLsYdR7jj0b1zIQvS40wD0/6mQd4HnRCQEzv/OEypZf2n8CniLyL0i4m3Y1lsMrzj0cScrpTJEpCdwu4PqdTiWUFSNZ4AN6D/aOeAF9MDlLmN9KvAYuuWRbKy/Rym1voSyZqAHz2KV9o5KMJ5a56Kb/R7owcZAdBfCPPRFn1MJe/+G7t7Zgh5kfx7d156CfgL+EP1klcGFXREAKKUy0f2rvxueJYOVUivRorkT7e3zY1lGKKXS0H34X6LP23T0YJ2zuAd4VkTS0L/H+SdhpdRO4AFj2Qn0ubVvLbyC7iJYbey/AX2TKYtX0H36Gcb3OUAk+jr4SikVXcp+s9DeMu+gz8sB9DjETxU4xqXo8ZAD6PGlVPQTfLkYLZ2r0APx59At26UY15ZSahP6HBbaFYN21KgKD6Kf/KOAFPS5LZyL9BK6q+wM+j91gXdROceRDVwBXGOU8Qrai8y+u3UBeszgZ+O6L+QF9PlbY/c798MBKKVygUvRY2+xwGm0k0Nht+GDwD0iko7uelvkiHqdgRTt1rOoDYie1NVSKTXDbFss6hYishV4TSk1z2xbLFwHq0VRCzD8uXsZTfaB6IHSb8y2y6L2I3qeQQujW+Q2tKfPCrPtsnAtLK+n2kEDdHdTK3Tz9WW0r7mFRXXpiu4+9Ed7xl2tlDplrkkWrobV9WRhYWFhUSZW15OFhYWFRZnUua6npk2bqrCwMLPNsLCwsKhVbN26NUkpVeI8qjonFGFhYURFRZlthoWFhUWtQkQumDBciNX1ZGFhYWFRJpZQWFhYWFiUialCISKRIrJfRA5KsXwAxvq7ReRP0fHy14tINzPstLCwsKjPmCYURgC6t9BT3LsB00oQggVKqZ5KqT7oqfav1LCZFhYWFvUeM1sUA4GDSqnDRkyURejkJedRSqXaffXHRSIpWlhYWNQnzPR6ak3RWOtxwKDiG4nILHQYZS90ohULCwsLixrEzBZFSfHyL2gxKKXeUkp1QKd4LDH8sIjcKSJRIhKVmJhY0iYWFhYWFlXETKGIo2iSlDboMMSlsQidu+EClFLvK6UilFIRzZqVlnenlpCbCVs+gvxcsy2xsLCwAMwVii1AJxFpJyJe6KQyRXITiEgnu6+Xo2Pu123WPgs/zYa9zkzTYGFhYVFxTBMKpVQ+OiHPcmAv8KVSareIPGOXSexeEdktItHocYq6nX8h6QBsfEd/jikptbaFhYVFzWNqCA+l1FKKZbNSSj1p9/mBGjfKLJSCZY+Apy+EjICDK8FWAG7uZltmYWFRz7FmZrsK+3+Gg6tg5CPQ53rIOgdxW8y2ysLCwsISCpcgLxuWPwrNusDAO6HDJeDmATHLzLbMwsLCwhIKl+CPN+HcUYh8Dtw9wbcRtB1ijVNYWFi4BJZQmE1KHKx7BbpOgA6j/loeHgmn90ByrHm2WVhYWGAJhfmseAKUDcbNKbo8PFK/W60KCwsLk7GEwkyOrIPd38DQhyAotOi6ph2hcXtLKCwsLEzHEgqzKMiHn/8JgW3h4lK8gMMj4chvkJtRs7ZZWFhY2GEJhVlEfQSnd8P4OXruREmEj4eCHDj8a83aZmFhYWGHJRRmkJEEv8yB9iP1IHZptL0IvBpYbrIWFhamYgmFGax+RncnRT4PUlIQXQMPL+0JdWCFnrltYWFhYQKWUNQ0J7bBts9h4F3QvEv524dHQlo8JOx0vm0WFhYWJWAJRU1is8HP/wD/ZjDynxXbp9NYQCzvJwsLC9OwhKIm2blYx28a8zT4BFZsn4Dm0Lq/NU5hYWFhGpZQ1BTZqbDySWgdAb2nVW7f8PG6yyr9tHNss7Cohaw/kMQlL61l67FzZptS57GEoqb49XnISITLXgC3Sp728PGAggMrnWKahUVtw2ZT/PenPRxOyuDmjzcTfTzZbJPqNJZQ1ASJMbDpXeh7g+5Gqiwte0GDYKv7ycLCYOmuePYlpPHIpV0I8vfipo82setEitlm1VksoXA2SsGyf4KnP4x+qmpliOhWxaFfrFzaFvWeApvi1ZUxdGoewB3D2rPgjkE08PHkho82sedkqtnm1UksoXA2+36CQ2tg1KMQ0Kzq5XQaD7lpELvBcbZZWNRCvos+waHEDGaPDcfdTWgT5MfCOwbj6+nODR9tIuZUmtkm1jksoXAmeVlGQqKuMOD26pXVfgS4e1tushb1mrwCG6+vPkC34IaM797y/PK2TfxYcMdgPNyE6R9s4uDpdBOtrHtYQuFMNryp80lc+rxOSFQdvPyh3XCdMtWapW1RT/l6axzHzmTy8Lhw3NyKRjVo19SfBXcMBmD6Bxs5kmQF03QUllA4i+RYnZCo25W6NeAIwsfDuSNw5qBjyrOwqEXk5Bfw5pqD9AlpxCVdmpe4TcfmASy4YxD5NsX0DzYSeyazhq2sm1hC4SxW/Eu/F09IVB3Cx+t3q/vJoh6yeMtxTiRn8fC4cKSMGGnhLRow/7ZBZOUVMO2DjcSds8SiulhC4QwO/wp7voVhs6FRiOPKbdQWmnez3GQt6h3ZeQXMXXOQgWGNGdqxabnbd2vVkPm3DSItO49pH2wkPiWrBqysu5gqFCISKSL7ReSgiDxSwvrZIrJHRHaKyGoRCS2pHJeiIE8nJGrUFi66z/Hlh4+H2D8gy5pgZFF/mL/xGKfTcphdTmvCnh6tA5l32yCSM/KY9v5GTqVmO9nKuotpQiEi7sBbwKVAN2CaiHQrttl2IEIp1Qv4CnihZq2sAls+hMS9MP7Z0hMSVYfwSLDla5dbC4t6QEZOPu+sPcTQjk0Z3L5JpfbtHdKIT28dSGJaDtM+2EhiWo6TrKzbmNmiGAgcVEodVkrlAouAK+03UEr9opQq7GDcCLSpYRsrR3oi/PIsdLgEulzunDraDADfIJ2jwsKiHvDZH0c5k5HL7HHhVdq/f2gQn9wykPjkbK7/cCNn0i2xqCxmCkVr4Ljd9zhjWWncBvxc0goRuVNEokQkKjEx0YEmVpLV/4a8CiQkqg5u7tBxrBYKW4Fz6rCwcBFSs/N479fDXNKlOf3aBlW5nIHtGvPRzRHEns3k+g83cS7DinBQGcwUipLupCVOEBCRG4AI4MWS1iul3ldKRSilIpo1q8bs5+pwYitsnw+D7oZmVXvyqTDh4yHzjK7TwqIO8/H6I6Rk5TF7bPX/Uxd1aMoHN0VwOCmDGz7aREpmngMsrB+YKRRxgL1LUBvgZPGNRGQM8DgwUSnlmm1Gmw2WGgmJRlQwIVF16DgaxN3yfrKo0yRn5vLRuiNEdm9Jj9YVzN9SDsM6NeO9G/tz4FQ6N328idRsSywqgplCsQXoJCLtRMQLmAp8b7+BiPQF3kOLhOsmY9ixEE5Ewdh/g09D59fnGwRth1jzKSzqNO//dpj03HweckBrwp5RnZvz9vX92H0ylZs/3kx6Tr5Dy6+LmCYUSql84F5gObAX+FIptVtEnhGRicZmLwIBwBIRiRaR70spzjyyU2DVU3qQudfUmqs3fByc2gUpcTVXp4VFDZGUnsMnvx9lQq9WdG7ZwOHlj+nWgrnT+7IjLoVbP9lCZq4lFmVh6jwKpdRSpVS4UqqDUmqOsexJpdT3xucxSqkWSqk+xmti2SWawK8vQEYSXPZi5RMSVYfwSP1utSos6iDvrj1ETn4BD4zp5LQ6InsE89qUPkQdO8ttn0aRlWs5h5SGNTO7OiTu1wmJ+t0ErfrWbN1NwyEozBIKizrHqdRs5m08xuR+bejQLMCpdU3o3YpXruvDxiNnuHNeFNl5lliUhCUUVUUp+PkfOqrr6Cdrvn4R3ao48ivkWrFsLOoOb/1ykAKb4oHRzmtN2DOpb2teuLoX6w8mcff8reTkW2JRHEsoqsq+H+HwWhj1OPiXH3vGKYSPh/xsOLrOnPotLBxM3LlMFm6O5dqIEEIa+9VYvddGhPB/V/Vk7f5EZn2xjdx8W43VXRuwhKIq5GXB8sd0gL6I28yzI/RinWLVcpO1qCPMXXMQQbjvko41Xve0gW35z5XdWbX3NPcv3E5egSUWhVhCURV+f91ISPQCuHuYZ4eHN3QYpccprGRGFrWco0kZLNkax/RBbWnVyAlx0irAjUPCePKKbizbncBDi6PJt8QCsISi8pw7Butfhe5XQbthZlujxylST2hXWQuLWswbqw/g6S7MHNnBVDtuHdqOxy7rwo874/n7VzspsFkPYSY+DtdSVjwBCIz7r9mWaDqN0+8xy6FlT3NtsbCoIgdPp/Ft9AluH9ae5g19zDaHO4d3IK9A8eLy/bi7CS9c3euC1Kv1CatFURkOr4W938OwhyHQRQLZNmihXXMtN1mLWsyrqw7g6+nOXcPbm23KeWaN6siDYzrx1dY4Hv/2T2z1uGVhCUVFKcjT8ZyCwpyTkKg6hEdC3BY98c/CopaxNz6Vn3bGc8vF7WgS4G22OUV4YHQnZo3qwMLNx3nq+92oejoWaAlFRdn8ASTtNxISmd80LkL4eEDBgZVmW2JhUWleWRlDAx8P7hjmOq2JQkSEv43rzF3D2zNv4zGe+XFPvRQLa4yiIqSfhrXPQscx0PlSs625kJa9IaAlHFgOfaaZbY2FRYXZGZfMyj2nmD02nEA/T7PNKRER4ZFLu5BbYOOT34/i5e7GI5d2qXBK1rqAJRQVYdW/9dyJyOecl5CoOri5QaexsOc73UXm7pp/OAuL4ry8IoYgP09uuTjMbFPKRER48opu5Bco3vvtMJ7ubjxcifzdtR2r66k84rZC9HwYfA80rZmQAlUiPBJyUiH2D7MtsbCoEFFHz/JrTCJ3jehAAx/Xf7gREf49sTvTBoYw95eDvLH6oNkm1RhWi6IsbDZY+jcIaAEj/mG2NWXTfiS4e2nvp3bDzbbGwqJcXl4RQ9MAb24aEmq2KRXGzU2YM6kneQWKV1fF4OEuzBpV87PIaxqrRVEW0V/AyW0w9hnwdnxMfIfiHQBhw6xwHha1gg0Hk/jj8BlmjuyAn1ftel51cxOev7oXk/q04sXl+3n/t0Nmm+R0LKEojaxkWPU0hAyCXlPMtqZihI+HMwfhTN2/cGucvGw9/mNRbZRSvLwyhpYNfZg+qK3Z5lQJdzfhpWt7c0WvYP5v6T4+/f2I2SY5FUsoSuPX5yHzjI7nVFsGrOxnaVs4jtN74c1+8OFondHQolr8GpPI1mPnuPeSjvh4upttTpXxcHfj1Sl9uKRLc+Ys3VunEx9ZQlESp/fCpveg/wxo1cdsaypO43bQrIvV/eRIYjfBx5FQkAundsPC6bp1YVEllFK8sjKGNkG+XBcRYrY51cbT3Y0bBrclr0ARfTzZbHOchiUUxSlMSOTdAC4xISFRdQkfD8d+h+xUsy2p/exfBp9fqfON3L4arnpPn9uvboUCK8dyVVi55xQ741K4f3QnvDzqxu2nX9sgALYeO2uyJc6jbvxSjmTv93DkN7jkCfBvYrY1lSc8Emz5cPgXsy2p3Wz/AhZNh+Zd4NblEBQKPa/RudH3/wQ/3G+Fdq8kNptuTbRr6s/kvq3NNsdhNPLzolPzAKKOnTPbFKdhCYU9uZmw/HFo3h3632K2NVWjzUDwaWSNU1QVpWD9a/DdTO1mPOOHohkMB94BIx/VHnErnrDEohIs3RXPvoQ0HhzTCQ/3unXriQgLYtuxc3U2cGDd+rWqy++vQcpxuMzkhETVwd1DhxqJWa7ngVhUHJtN3/xXPQU9robpX5bsFj3inzDwTvhjrr5mLMqlwKZ4dWUMnZoHcEWvVmab43D6hzYmNTufA6fTzTbFKVhCUci5Y/pJssfVEDbUbGuqR3gkZCbpOSAWFaMgD769W9/8B94Fkz8ED6+StxWByOehxzXahXrrpzVpaa3ku+gTHErMYPbYcNzrYF6HiFA9ThFVR8cpTBUKEYkUkf0iclBEHilh/XAR2SYi+SJyjVONadASRj0KY//j1GpqhI6jQdys7qeKkpsBC6fCzsVwyb/g0ud1/KyycHODSe9Ax7Hw40M6zpZFieQV2Hh99QG6BTdkfPeWZpvjFEKb+NE0wIutR+vmOIVpQiEi7sBbwKVAN2CaiHQrtlkscDOwwOkGeXjD0IcgsA4Msvk11hMFLTfZ8sk8C59NhENrYMIbMPxvFZ834+EF130ObQbA17frxFYWF/D11jiOncnk4XHhdTZLnIjQPzSozg5om9miGAgcVEodVkrlAouAK+03UEodVUrtBKzO9soSPh4SdkLqSbMtcV2Sj8PH4yHhT7hunp43U1m8/GD6YmjSERZdDyes7j57cvILeHPNQfqENOKSLs3NNsepRIQ2JvZsJqfT6t48GzOFojVw3O57nLGs0ojInSISJSJRiYmJDjGu1hMeqd+t7qeSOb1Pi0TaKbjxG+h6RdXL8g2CG/4Hfk3gi2sgMcZxdtZyFm85zonkLGaPrfshufuHGfMp6mD3k5lCUdJVUyXfMqXU+0qpCKVURLNmzappVh2hWRdo1BYOrDDbEtfj+GYtErZ8uGUphF1c/TIbBmvBEXeYdxWkxFW/zFpOdl4Bc9ccZGBYY4Z1alr+DrWcHq0C8fZwq5PdT2YKRRxgP4e/DWD1kzgKEeg0Xveb52WZbY3rELNcj0n4NYHbVkDLHo4ru0kHuPF/kJOmxSLjjOPKroXM33iM02k5zK4nCX68PNzo3aaRJRQOZgvQSUTaiYgXMBX43kR76h7hkZCXCUfXm22JaxC9EBZOg2adjdnWYY6vo2VPmL4IkmN1N1ROmuPrqAVk5OTzztpDDO3YlMHta2GEgyoSERbE7hMpdS5AoGlCoZTKB+4FlgN7gS+VUrtF5BkRmQggIgNEJA64FnhPRHabZW+tJGwoePpZ3k8Av7+u50m0GwY3/wgBTuyiDL0Irv0U4nfoAe78HOfV5aJ89sdRzmTkMntcuNmm1CgRYUHk2+pegEBT51EopZYqpcKVUh2UUnOMZU8qpb43Pm9RSrVRSvkrpZoopbqbaW+tw9MH2o+CmBX1N9SEzabDsqx8ErpPLn22taPpfClc+RYc+VW7ztrq1hNmWaRm5/Her4e5pEvz8wHz6gt1NUCgNTO7rhM+DlJidej0+kZBHnx7jzHb+k64+iM9X6am6DMNxj+rA03++FC9EeuP1x8hJSuP2WPrV2sC6m6AwFoa0MiiwpxPZrQMWhSfz1iHyc2AJTdrr69LnoBhlZhI50iGzNQJsNa9pAfQxzxV8zbUIMmZuXy07giR3VvSo3Wg2eaYQkRYED/tjMdmU3VmgqHVoqjrNGwFwb3r13yKzLM6j8TBVTDhdRj+d3OzFF7yhI5GvP4V2DDXPDtqgPd/O0x6bj4P1cPWRCF1MUCgJRT1gfBIiNusb6B1nZQ4nZEufqcOr9H/ZrMt0iJ1+cvQbRKseByinR+RxgyS0nP45PejTOjVis4ta2AcyEWpiwECLaGoD4SPB2XTT9h1mdP74KNxkBav5zN0nWC2RX/h5g6T39fOBd/dC/uWmm2Rw3l37SFy8gt4YEwns00xFdMCBDpxDMwSivpAcF/wb1633WSPb4ZPIu1mW7tgqHgPb5gyX+dhX3JznZrfcio1m3kbjzG5Xxs6NAsw2xxTMS1A4Mp/wQ8POCUPjSUU9QE3Nz2ofXCV9t+F8gcAACAASURBVASqa8Ss0LOtfYOM2dY9zbaodLwD4Pqv9GS/hdP0XIs6wFu/HKTApnhgdP1uTRRS4wEC47bCH28BUn6I/CpgCUV9IXw8ZKfA8U1mW+JYohfqXBLNOsOtK5wz29rR+DXWcaF8AmH+1XDmkNkWVYu4c5ks3BzLtREhhDT2M9scl6BGAwTm58B3s6BBMIx9xilVVEgoRMRXRDo7xQKLmqHDKHDzrFveT7+/oWdbhw11/mxrRxPYWouFssHnk2p1OPi5aw4iCPdd0tFsU1yGGg0QuO5lSNwLV7wGPg2dUkW5QiEiE4BoYJnxvY+IWDGZahveDXSU1LogFIW5rVf+C7pfBdcvqZnZ1o6maSe44WvIOgvzJtdKr7SjSRks2RrH9EFtadXI12xzXIYaCxCYsEsLRa8penKtk6jIhLun0UmG1gIopaJFJMxpFlk4j/BIWPYInD0MjdubbU3VKMiD7++DHQv1bOvICqQtdWVa9YVpC3UX1ILr4KbvwMu/xE0T03K47bMtnMvMJayJP+2a+hPaxJ92Tf0Ia+JPmyA/vDxq9ly8sfoAnu7CzJEdarTe2kD/sCA++O0wWbkF+Hq5O76Cgnzd5eQbBJHPOb58OyoiFPlKqZT6ECa4zhM+XgtFzAoYfLfZ1lQe+9nWo56oXNpSV6bdcLjmY/jyJv2aulCnWbUjr8DGrAXb2J+QxphuLYg9k8k3206QlpN/fht3N6F1I1/CmvoT1sTPTkz8CGnsh6e7Y0Xk4Ok0vo0+we3D2tO8oY9Dy64LRIQG8Y5NsSMu2TkRdP+YC/HROgClX2PHl29HRYRil4hMB9xFpBNwP7DBqVZZOIfG7aFpOBxYXvuEIvOsfuI+sVX3xUbcYrZFjqXrBJ2z+/t79bjL5A+LtJTm/LSXzUfO8tqUPkzqqxNBKqU4m5HL0TMZHEnK5NiZDI4kZXD0TAbbjp0jvZiItAny1S2QJn6GmPgT1tSfNkG+VRKRV1cdwNfTnbuG19LWqZPpH1oYIPCc44Ui6SCsfRa6XKEncjqZigjFfcDjQA6wEB0W/D/ONMostp3aRrcm3fDxqMNPR53Gweb3dZ6E2tKvnxKn+/DPHYVrP4NuE822yDn0u1GPV6x8Enwbw2UvgghfbY3j0w1HuW1ou/MiAdpfv0mAN00CvOkfWvSJUinFmYxcjiZlcPRMpvFetoiENTFaIk39zwtJaSKyNz6Vn3bGc++ojjQJqJlAizkFOaTkpPz1yk0hMy8Tb3dvfDx88PXwPf+y/+7t7o2b1Hz3ZGGAwC1HHTz2ZLPpBwoPbz3jvwZa1eUKhVIqEy0UjzvdGhNJzExkxrIZeLp50qd5Hwa1HMSg4EF0b9odTzdPs81zHOGRusl6eK1rzVwujcT9OltcTpqebe2KE+mqQIGtgIz8DDLzMsnIyyAjL4P0vHQy23Qno+8kMvYtJCMvgaONevLNjsO0CVck+vlwx4osPN088ff0v+Dl5+lHgGeA/uzhR4BXAC0a+9OuhR8BXs3wcvNCRIqIyJGkDI6dyeTImQyOJmUQdfQsGXZJd9zdhJDClojRjRXW1J/PNxylgY8HdwyrXGtCKUVWfhapualFbvj2n1Nz9LrknOTz61JzUskuqPqcBF8PX3zcfS4QkuICU2Sdexnr7PbzcffB3a3kMQinBAiM+ghi/4Ar34YGLR1TZjmIKmfat4j8wIW5rFOAKOA9pVQNzSipGBERESoqKqrS++UU5LA5fjOb4jexKWET+87uA8DPw4/+LfozKFgLR3hQuClPJw6jIA9e6ADdJuh8Ca7MyWiYP1nnob7hawjuZao5uQW552/qRV7GDT89N73IzT89L72IEBS+MvMzycqvWHpaUYJSvrQICKSBlxaDfFt+kToqWpaHeJwXEz9PP/w9/S/87OEHypusHE/SM91JzhDOpLpxOgVOnrORme2JsnmD8uTe0W2ZPqSpvqEXu8kXFwB7Yci15ZZqo6ebJ428GxHoHUhDr4YEegee/26/LNA7kECvQPw8/cgtyCUrP4us/Cyy87PPf87KzyK7wPieZ/e5hG0LPxduU1n8Pf0J9g+mpX9LWvm3IjggmGD/YPbHefDmiiR+mnU53YIbVbrcC0iOhbeHQMgg/Z9wYGtCRLYqpSJKXFcBoXgdaIbudgKYAiQAvkBDpdSNDrPUAVRVKIpzLvscWxK2sDlBi8fR1KMANPJuxICWAxgcPJiBLQcS2jC09uUDXnILHPsdZu9zXY+h2E3s/nIKcwMD2ObrC+KGuuB5RWN/DdtvU9LyImUU+Vh2GaXVXRI+7j4l3oj9Pfzx9zLei7cAim3vjRcH3prBRdl/EDfydUJG3lxqfQW2ArLys4oI0/nP+Rmk56aTmW8st/9cipBV5lhLw9fD94KbeqB3IA29GxLoVfrN38fdx/T/k03ZyM7PPi8axcWniLAY7ym5KcSnxxOfoV/JOUUz3AluBPu3JDggmFb+rbSgBLQi2D/4vKj4epTjXqyUfnA6vhlm/gGN2jr0uMsSioqMUfRVSg23+/6DiPymlBpel1OTBvkEMS5sHOPCtG9yQkbCedHYFL+JlcdWAtDCr8X51sbAlgNp6V8zTcFqER4Ju/+nPSZa9zPbmgs49OdC3lr/FCubNSDQswET21+Ol/tfXkCCvpHY31AKlxlfSlxe7n52lLSNl7tX0e6eEm78/p7+eLhVP83LMz/s4Yvku1jXOp+Q3x6GVq1K9ZN3d3MnwCuAAK/qx1gq7Bqyby1l5Bb7nJ9BVn4W/h7+Jd78G3o3xNu9BhNEORg3ccPP0w8/z6rPMs/MyyQhI4ET6Se4f8kaQprl0q1FAfHp8USdiuJ05mkKVNGsh0HeQedFo/DVKuCv1knQnqXIoTVw2UsOF4nyqEiLYi8wXikVa3xvCyxTSnUTke1Kqb41YGeFcVSLoiyUUsSmxZ4Xjc0Jm88/QYQ2DD0/vjGg5QCCfFwwFWTGGXixA4z4J4x61GxrzhOXFsc7vz3Bj4lR+CDM6HojN/Wd6ZAbYG3im+1xPLR4BzdfFMbT40LgsysgMQZu+hbaDjbbPItKcte8KPbGp/HbP0adX5ZvyycxM5GTGSd1K8RojZzMOHn+c/EuMB+laIknrVoNINhojbQK+Kt10tyvebXGU6vb9XQZ8C5wCP2s1g6YiZ6Ad4dS6rUqW+YEakIoimNTNg6cO8DG+I1sTthMVEIUmfmZAHRp3IWBLQcyKHgQ/Vv0x9+z5MlUNc5H43SMmLt+NdsSEjMTeX/n+3wV8yVutgKmFfhx2+RFBAXVP7fLXSdSuPqdDfQOacQXtw/SHkfpiToybkYi3PIztLBSx9cmPvjtMHOW7mXz46Np3qBiHpVKKVJyUrR4pJ8kYd0LnDx3gPjwMcTnpXEy4yRns4t6U7mJGwNaDuDDcR9Wyc5qCYVRgDfQBS0U+1xtANseM4SiOHm2PHYn7T7f2th+ejt5tjw8xIMeTXswMHggg4MH06tZL/Oa6OtehtXPwMP7a8xzojgpOSl8vOtjFuxdQH5BLlelpnJnQCdaTvvKaTFrXJmzGblMeHM9NqX4/t6hNGtgd20kx8JH40EVwKS3IXQoeNZhN+46xLbYc0x+ewPvXN+PS3sGV76A3d/oiaZjnoahD51fnJ2fTUJGwvlxkfiMeAI8A5jRfUaV7HSEUFwEhGE3pqGU+rxK1jgZVxCK4mTnZxOdGK2FI34zu87swqZseLt707d5Xz3G0XIQXZt0dUj/doU4tRveuQgmvgn9bqqZOg0y8zKZt2cen+7+lIy8DC5r0ImZe9bSNnSEztfgVf8ikOYX2JjxyWa2HD3HkruG0DukBA+Z0/vg08shMwk8fHXsrg6joeNoPZGytjlV1BNy8230fHo5NwwO5V9XVDJvfeZZeGsgNGwNt68Gd+fdH6o1mC0i84AO6MCAhaMvCnBJoXBFfDx8GBw8mMHBun85LTeNrae2nnfFfX3b6wAEeAYQ0TKCwcGDGRUyilYBrZxnVPNu0LCNDhJYQ0KRU5DDkv1L+ODPDzibfZZRIaO419aA8PVz9QzTaz7Wk4jqIc8v28fvB8/wwjW9ShYJgOZd4MGdcPR3OLQaDq6G5Y/qKbAN2+gIwR1HQ/uROv6PhUtQrQCByx6BrHM60rATRaI8KlJzBNBNVaTpUUlEJBJ4HXAHPlRKPVdsvTdakPoDZ4ApSqmjjrajpmng1YCRISMZGTISgKSsJKISos6Pcaw9vpbnNj9Hz6Y9GRs6lrGhY2nToI1jjRDRsZ92LIK87Au6MZRSnMvMo7G/VykFVJx8Wz7fH/qed3a8Q0JGAoOCB3F/n/votfMbWP+qjnx55dum/hHM5LvoE3yw7gg3DQnluoiQsjf28tfeT4UeUMmxcGiNFo0938P2eSBu0KqfFo0Oo6F1/7p1bvOydVjt+J2Qmw4Rt4Kna0eurVKAwJgVsHMxDP+H6cm4KjKYvQS4XykV79CKRdyBGGAsEAdsAaYppfbYbTMT6KWUultEpgJXKaWmlFVuVbue0nPymfPTXu4Y1o72JqdyjE2NZcWxFaw8tpI9Z/Tp6NakG+NCxzEudBwhDcu5mVSUmBWw4Fo9cafjmCKrnvlhD5/9cZRHL+3CbUPbVcm33aZsrDi6grnRczmWeoxeTXtxX7/7GNxiICz7pw4lEnErXPay687ncDJ7TqYy+Z3f6dk6kC9uH1y96K8F+XBymxaNQ6t1XCxlA+9AaD9ci0aHSyAo1HEH4GyykiHhT+O1U4tD0n6d8raQ9qN0BF4XFovVe09x22dRLLpzcMXiPmWnwtuDdZidu36rkZZ2db2efgH6AJvR8Z4AUEpVK+COiAwBnlZKjTe+P2qU+6zdNsuNbf4QEQ/0RL9mZbVuqioUCSnZRL7+GyFBfnx9z0U1Hq65NI6nHWfVsVWsOLqCXWd2AdC1cVfGhY1jbOhYQhtW40+flwXPt9NdT5e9cH7xrzGJzPh4M60b+XIiOYvLewXzwtW98Peu2FOpUop1J9bxxrY32H9uPx0bdeT+vvczMmQkomw6THj0F3DRfTD2P/W2b/1cRi4T31pPbr6NH+4bWmGPmAqTdQ4O/2p0U62B1Di9vEnHv0QjbKhOz2o2SkFavBaChD8hYYf+nHzsr20CWkDLXnqGfste+ik79g/47l5oP0JH3XXR8a3kzFz6PLOSv4/vzKxRFUjw9ONDsPVTuG0ltCnx3u1wqisUI0parpSqll+liFwDRCqlbje+3wgMUkrda7fNLmObOOP7IWObpGJl3QncCdC2bdv+x44doyos25XA3fO3cveIDjxyaZcqleFMTqafZOWxlaw4toKdiTsB6BzUmbGhYxkXNo52ge0qX+iCKXB6LzywA0Q4m5HL+Nd+I8jPk+/vHcpnG47y/LJ9dGgWwLs39qdDOa2tLQlbeGPbG0QnRhPSIIRZfWYRGRapY+Hk58L/7oA938LIx2DEP+qtSBTYFDd/splNh8+y6K7B9Gvr5DEFpSDpwF9jG0fXQ36WznrYdrAWjY6joUVP57fubDY4e0jnC08whCF+px6kL6RxeztR6K1FoUGLksuLXgDfztTh2qctclmxGPPKr4QE+fLJLQPL3vDIOj13Zsi9MH5OzRiHA7yenIGIXIueyGcvFAOVUvfZbbPb2MZeKAYqpc6UVm51vZ4e+Xoni6OO88Xtg7ioQ9Mql+Ns4tPjWRWrWxrRidEAdGzUkXFh4xgfOp72jSo4ByHqY/30MnMTqlln7pq3lbX7E/l21sV0a6VdVDccTOK+hdvJybfx0rW9iexxoTvt7qTdvLH9DTac3EBzv+bc3ftuJnWc9NcEoLws+HKGDnE+bg5cdO8FZdQnnvt5H+/+eojnJvdk6sCanWUL6Dk0sX8Y3VS/wKk/9XL/Zrorp6PR4ghoXv16Tu8xWgqFrYVdkJeh17t56kH6lr3tWgo9Kh/ZOHohfHsPtBsG0xa7pFg88vVOlv4ZT/ST40oPEJibqb0RAe7ZUKPHUd0WxWDgTaAr4IUeeM5QSlXL0d3Vup4KyczN54o31pOZW8CyB4fRyK/6g7nOJiEjgdWxq1lxdAXbT29HoegQ2OF891THRh1LH2NIOQGvdoMx/2ax92T++fWfPHZZF+4cXjRj2cnkLO75Yhs7jidzz8gO/G1cZ9zdhEPJh5i7fS6rYlfRyLsRt/e8nSmdpxQN1Z6TBgun6afYK16te7kkKsmPO09y74LtXD+oLXOuMneQ8jxpCVowDq3Rr8Kn+5Y9tWB0GK1bHmX1lWclw6ldf4lC8fEErwa6vJY9/xKFZl0uSNJUZXYsgm+MHOrTF5eaKdAsvtoax9+W7GDFQ8MJb1GKEC5/XEd3nvGjFr0apLpCEQVMBZagPaBuAjoppR6rplEe6MHs0cAJ9GD2dKXUbrttZgE97QazJyulriurXEfMo/gzLoXJ7/zOmK4tePv6fqYHKasMpzNPs+rYKlYeW8nWU1tRKNoFttPdU6HjCA8Kv/B43h1Ktps//eIeoncbPSO4pCeenPwC/v3DHhZsimVAR0Voh/WsiF2Kn6cfM7rP4MauN14YbiPrHHxxLZzYBle9C73K/PnqPPsSUrnqrQ10a9WQhXdUc/DaWdhs+kZ/yGhtxG4EWx54+umbcIfREDpEi0v8zrLHE+xFIaid87u1dizWiZ9CL3Y5sTialMHIl9Yy56oeXD+ohLHFuK3w0RjoNwMm1HzAi2oLhVIqQkR2KqV6Gcs2KKUucoBhlwGvoVspHyul5ojIM0CUUup7EfEB5gF9gbPAVKXU4bLKdNSEu3d/PcRzP+/jhat7cd0AB3kZ1TBJWUmsPraaFcdWEHUqCpuyEdYw7PyYRuegzogItlXPoNa/ygg+5MsHL6NVo9K9RxIzE/nHqpfZcnYZghuXh17DI0Nm0sinBN//9ESYf5XOKXHNJ9D1CicereuTnJnLxLm/k51XwI/3Da096UNz0nRr8OBq3do4e6jo+sLxhJY9Ibi3/lzaeEJNsPNL+OYulxMLpRQD5qxieKdmvDKlT9GV+Tnw3gjISYWZG02JTFDd6LGZIuIFRIvIC0A84JAzr5RaCiwttuxJu8/ZwLWOqKuy3DmsPb/uT+TpH3YzoF1j2jV1jYutMjT1bcqULlOY0mUKZ7LOsDp2NSuPreTjXR/zwZ8f0LZBW8aGjsV2LoiHsPHGgLOlikRydjIf7/6YhXsXkm/LZ2zIBDZu7cf/DvjQxz+VqQOLCUXqSfj8Skg+rgcYO46ugSN2XQpsigcWRROfksWiOwfXHpEAPV7Q+VL9Ap1p8PgWCGwNLXq4XriVXtcBAt/cqVuz0790Cc8uEaF/aFDJE+/Wvaznhkxf4nrnk4q1KEKBU+jxiYeAQOBtpdRB55tXeRwZwiM+JYvI19YR2sSPr+52HZfZ6nI2+yxrYtew8thKNp7chI0CWuXbGO/bmnHjXqF7k+7nu6cy8jKYt2cen+3+jIy8DK5ofwX39LmHkAYhnMvI5f5F21l3IIkpESH8+8ru+Hi66xvJZxN1+IHrv4TQajc+az0vLt/HW78cKr3bwcLx/PmV9rILGQzXL3EJsSgxQGDCLnh/BPS4Gia/b5ptLun15CwcHevp5z/jueeLbcwc2YF/RLqey2x1SM/JJ/KNZeR47aR/k5/ZlH+OfBFa+bdibOhYgnyC+Gz3Z5zLOcfotqOZ1WcWnYI6FSmjwKZ4bVUMb645SK82gbx/aQAtv50K+dlww/9cMt9FTVN4DU0bGMKzk83N0lfv2PU1fH0HhAw0xMLcPPEXBAgsyIcPR0PqCZi1Gfwal1+Ik6hurKeLgaeBUIoGBawXMaAv7RnMlIgQ3vn1EMM6NWNIhwrMqqwlPPPDbk6eFRbdeTcDM7uR8vXN/DLuX6zMOMwX+74g35bPkOAh3Nf3Pno2K9k7x91NeHhcZ3q1acR7i7/Fe95/yPXxxuuWpdCikgHQ6iAxp9J4eMkO+oQ04umJVnjwGqfH1YDA17fD/Gvghq9MFYserQLx9nAj6tg5LRR/zNUJxK791FSRKI+KjFF8hO5y2spfQQHrFU9O6Mbmo2eZ/WU0Pz9QO1xmy2PZrni+jIpj1qgODGzXGLJHEYg7k9JSmTT2LVJzU0nKTKrwfIyxDWK5xGcOZ3K9iUx9lKv3eDGzuapVHmOOJiUrjzs/j8LPy4N3b+iPt0cFY/xYOJYek/XEzq9uM10sigQITDoIa5/VATG7TTLFnopSkU73FKXUz0qp00qpM4Uvp1vmQvh7e/D61D4kpuXw2Dd/Utu7606lZvPI//6kZ+tAHhgdrhf6BOqxhJjlADT0aljxSXuHf4XPr8TdvwkNZq6mR8/+vLh8P3fN20pqdp6TjsK1sdkUDy7aTty5LN65oR8tA2vR4HVdpPtVOjpx3BaYf7WOpWQS/cOC2HPiHAXfztLzUi5/2eUjFJQqFCLST0T6Ab+IyIsiMqRwmbG8XtGrTSMeHteZpX8msGRrnNnmVBmbTfG3JTvIzivgtal9ig7Qh0dqz4tzlQiBErNce5Y0agu3/IxvszBen9qHJ6/oxpp9p5k093diTqU5/kBcnNdWxfDL/kSemtCNAWGu26VQr+g+Ca79RAdLNFEsIkKDmCorcY/bCOOfNS1xWGUoq0XxsvEahJ5o9392y15yvmmux53D2zO4fWOe/n43R5IyzDanSnz2x1HWHUjiicu7XRi3KTxSvx9YUbHCdn8Di6brsYhblp6/4EWEW4e2Y8Edg0nLyefKub/zw46TjjsIF2fZrgTeWHOQ6yLacMNgy8PJpeh2pZ7Tc3IbzJ8M2Sk1bkJEo3T+6bGIY0FDoM/0Gq+/KpQqFEqpUWW8LqlJI10Fdzfh1Sl98HR348FF28krsJltUqXYn5DGsz/vY3SX5lw/qIT4Qk06QOMOELOs/MK2fwFf3QptBsBN35c4EDewXWN+um8o3Vs15L6F2/nPj3tq3TmrLAdPp/Hwl9H0bhPIM1f2qNdjNC5Lt4l68PjkdphXw2KhFIGr/oabCG/6zXL5LqdCyup6mi0it5Ww/D4RedC5ZrkuwYG+PDe5JzviUnhtVYzZ5lSYnPwCHli0nYY+Hjx/Ta/Sb2DhkXDkN8hJL72wTe/DdzOh3Qidy6KMCULNG/qw4I7B3HxRGB+tP8L1H27idJrLplyvFqnZedz5+VZ8vdx554b+ek6JhWvSdQJc+5n2OJp3lY5TVRNEL4BDa1jR6m5WnPDCZqsd451ldT3dig6fUZz3jXX1lkt7BnNdRBveXnuIjYdrx7j+yyti2JeQxvNX96JpQBmB3cLHQ0EuHCklivy6V+Dnv2tPjQqGR/DycOPpid15bUofdsYlM+HN9Ww9draKR+Ka2GyK2YujiT2byVvT+5UZBsXCReh6BVz3uY5TVRNikZagU9e2HUJe31tIzc7nYGIZD2QuRFlCoZRSuSUszAFqR3vJiTw1oTthTfyZvTialEzX9uzZcDCJD9Yd5obBbRndtZwYPG2HgHfD895P51EKVj8Dq/8NPa/VTfdKZt2a1Lc138y8GB9Pd6a+v5HP/zha6z3ICnljzQFW7T3NE5d3ZVBFMphZuAZdLtdikfAnzJukg1g6A6Xgp4d1GteJbxLRTqcwiDrqpPocTJnusSJywV2lpGX1EX9vD16b0ofTaTk89q3rusymZOYx+8sdtGvqz+OXVWACnIcXdBilhaLwmGw2neR93cs6suVV74G7Z5Xs6RrckO/vHcrwTs148rvdzP5yB1m5tXt6zso9p3ht1QGu7teGGReFmW2ORWXpchlMmadDaXzuJLHY8y3s+xFGPQpNOxHWxI+mAV5E1ZKWdVlC8SLwk4iMEJEGxmsk8AP11OupOL1DGvHQ2HB+2hnPVy7oMquU4rFv/yQpPYfXp/SteFL38EhIT9AZyGwF8MN9sOldnXFrwuvgVr2+90BfTz64KYLZY8P5NvoEk9/ZwLEztdOL7FBiOrMXR9OzdSBzrrIGr2stnS+FKfN1kqXPr9RxyhxF5llY+ncI7gNDdF628wECa3uLQin1OfAv4BngKHAE+DfwlFLqsxqxrhZw94gODGrXmKe+381RF3OZ/Wb7CX7aGc9DY8Pp2Saw4jt2HAuIfgL6+nbYPh9GPALj/uswLw03N+H+0Z345OYBnEzOYsKb61mz75RDyq4p0rL1zGtPDzfevdEavK71dI40xGKvY8Vi2SO6lXLlXHD/KxhGRGhjYs9m1grnjjK7nowZ2SOUUk2UUk2Nzz/XlHG1AXuX2QcWR7uM++fxs5k8+d1uBoY15u4RHcrfwZ6AZjqh+28vwe7/wdj/6CazE56WR3Zuzo/3DaVNkB+3fhrFqytjaoUniM2mePjLHRw9k8nc6X1pbQ1e1w3Cx8OULyBxn2PEImYF7FwMQ2frfB129A/TedK31oJWRd2Im20yrRr58n9X9WTH8WReX3XAbHMosClmfxmNAC9f1xv30vLzlkXXifr98lfg4vsdal9xQhr78b+ZF3F1vza8vvoAt322heTMC/woXIq3fjnIij2neOyyri6dW92iCoSPg6kLdcKtzydWXSyyU+HHB3W61+F/u2C1fYBAV8cSCgdxea9gru3fhrfWHmSTyS6z7/56iC1Hz/HMpO6ENK5icvYhs+CBHTDggqk0TsHH052Xru3Ffyf1YP3BJCbMXc/ukzU/a7YirNl3ildWxXBV39bcenGY2eZYOINOY2DaAkiM0blVMqrwn175JKTFw5VvleghWCRAoItjCYUDeXpid0Ib+/HQ4mhSssxxmd0Zl8yrK2O4olcwk/q0rnpBbu4QVLPhJ0SEGwaHsviuIeTlKya/vYGvXcxJ4EhSBg8siqZbcEP+76qe1uB1XaajIRZJMbplURmxOLIOtn4Cg2fqbtxS6B8WxO4TKS7v+VfhxEUiMhgd78kbeFEp9a0zDasqjk5cIQwKngAAIABJREFUVFl2HE/m6nc2ENmjJW9O61ujN5LM3HyueGM9WXkFLHtgOIF+VXNhdQUS03K4b+E2Nh4+y8jOzWjdyJeGvp409PGkoa+H8e5JQx+PIsudGco7PSefq976naT0HL6/d2jVW2sWtYuDq3VMs8YdYMb34F9OV2NuJrxjZHW8ZwN4lX6drN57its+i2LRnYMZbPL8myolLhKRlkqpBLtFs4GJ6Ml2GwCXFAqzKXSZfXH5fkZ2bs41/dvUWN1zftrLkTMZfHH7oFotEgDNGngz/7ZBvLoqhqV/JrDrRAopWXnkFZT9YOPt4VaCgOjvDcoRmYY+nqV6Liml+NuXOziUmM682wZZIlGf6Dha531fOFV3Q5UnFr/MgXNHYMaPZYoEQP9QY0D72DnThaIsykpc9K6IbEW3HrKBZGA6YAPMC+ZeC7h7RAd+i0nkqe92MSAsiNAm5Ye5qC6r9pzii02x3DW8fZ0ZXPVwd+Pv47vw9/E6Ba1Sipx8G6lZeaRm55GSlU9qdp7xPf/88lS75clZeRw/m2lsX77QeHm4ldhqycotYPW+0zx+WVcu7lg3zq9FJegwyk4sJuhAmAHNLtwubitsfBv63wLthpVbbCM/Lzo2DyDqqGtPvCuz60lEJgAPAJ8BX6OFwg9YqJRKrBELK4nZXU+FnEzOIvK132jfLIAldw/B0915w0GJaTlEvvYbzRv68O2si6xMaqVQFaFJzc4nzVh+Wc9g/j2xuzUuUZ85vBYWTIWgMJjxQ1GxyM+B90ZATirM3FhmsEx7Hvl6J0v/jCf6yXG4VcVD0UFUOWe2UuoHEVkKzAT+B8xRSq1zgo11jlaNfPm/yT25d8F23lh9gIfHdXZKPUop/vn1TtJz8lk4tY8lEmUgIvh4uuPj6U7zhlbGOYsq0H6kDoa5YAp8doUhFs31unUv68Rf05dUWCRAdz8t2nKcg4nphLcwL593WZQVZnyiiKwH1gC7gKnAVSKyUEQqOYPrgrIbi8hKETlgvAeVst0yEUkWkR+rU59ZXNGrFdf0b8Nbvxxk8xHnNC3nb4plzb7TPHppF5e9yCws6hTtR8D1X+pMkJ9eAWmndJyodS9Dryl6HkYliDAyILpyOI+y+kP+C4wHrgaeV0olK6VmA08Cc6pZ7yPAaqVUJ2C18b0kXgRurGZdpvL0RD2XwRkuswdPpzPnpz0MD2/GTUPCHFq2hYVFGbQbDtcvgZTjumXx7T3gGwSRz1W6qLAmfjTxd+0AgWUJRQq6FTEVOF24UCl1QCk1tZr1Xoke98B4n1TSRkqp1UCtTrgc4O3B61P7kpCazRPf7nJYlNncfBsPLt6Or6c7L13Ty9S+TQuLekm7YYZYxEHCTrjsxRIzPZZHYYDArS488a4sobgKPXCdjx7EdiQtlFLxAMZ78+oUJiJ3ikiUiEQlJrreGHufkEY8NKYTP+w4yTfbTzikzNdWxbDrRCrPTu5l9bdbWJhF2FC4+Ue4/GXoVuLzboUYENaYY2cySUzLcaBxjqPUwWylVBLwZlULFpFV8P/t3XtcVHX++PHXB5SbiuBd8YZ5BwFlvGzhrTItK+xifLVaXe+lpZW1FLqLpW2xpbZ9y/LSksmWvzQl7cdWW5qx4l0uQ1ZkkZKoRN5QUS6f7x8zTKCAiDNzBnk/H495zHAun3mfzwDvOed8zvvQppJZMbVtsypa6+VY7ryHyWRyyYpyjwzryrasX/lLYiamTs3o2Lz24/B3/fQby746SJSpA6OCK+tiIYTTBIRbHtfAViDw598YFdzWHlHZlcPGbGqtb9VaB1fySASOKaXaAlifj1ffWt1XVmVWKZi9dn+tq8yeLiziibWpdGzmw1/uqsGNiIQQLq+sQOBuFz2hbVStp4+BCdbXE4BEg+JwqgBrldn9h07y+pc/1KqNvyZmcvR0IUuiwmjkWe3oZiFEHeHqBQKNShQvASOUUlnACOvPKKVMSqmVZQsppb4GPgRuUUrlKKVGGhKtHd0V2o77+rXnf7/MYvdVXo35sfUcx2M3d6Vfx0pHFAsh6ihXLhBoSKLQWudrrW/RWnezPv9mnb5Haz2l3HKDtdYttdbeWuv2WutPjYjX3hZEBtHe34c5H9R8yOyRk+eZtyGDvh39mDW8q4MjFEI4m6mTP8WlmrSck0aHchkpM24Ay5DZMI6eLuQvieYrLl9qvRFRcalmaVQYDRxYDkQIYYzyBQJdjfzHMUjfjv7MuaUbialH2LC/+nsurEz+kR0//kbsXUFOKTAohHA+Vy4QKInCQI8O78qAzs2YvzGTQ/nnKl0m88gp/v7pd4wKasNYk/NKlgshnM9kvfDO1e4bL4nCQO5uisVRoSgFc9bup/iSIbOFRSXM+SAVfx8P/nav3E1NiOtdeCd/ThcW80NegdGhVCCJwmDt/X1YdE8f9lUyZPalpG/JOl7AK2ND8W/kYVCEQghncdUCgZIoXMDdoe24t18Ar3+ZZTs++dX3ecRvz+ZPN3VmSPdKbpAihLjuuGqBQEkULmLB3ZYhs7M/SOXn/LPM/TCN7q0b8+dRPY0OTQjhJK5aIFAShYto4tWQpdYhs3e89jWnzhWxNKpvlfdwFkJcn0yd/V2uQKAkChfSr6M/s2/pxtmLJTw9sge929X8LllCiOtDeCfLeYq9LnT4SYoFuZhZw7tyS69W9G4rSUKI+ig4wBfPBm7syT7hMpVkJVG4GDc3RVC7pkaHIYQwiGcDd5crECiHnoQQwsWEd/bH7EIFAiVRCCGEi3G1AoGSKIQQwsW4WoFASRRCCOFiXK1AoCQKIYRwQa5UIFAShRBCuCBXKhAoiUIIIVyQKxUIlEQhhBAuyJUKBEqiEEIIF+RKBQIlUQghhItylQKBkiiEEMJFuUqBQEkUQgjhooIDfPGwFgg0kiGJQinVTCn1uVIqy/rsX8kyYUqpFKVUplIqXSkVZUSsQghhFEuBwKaGFwg0qnpsNPCF1volpVS09ec/X7LMOeCPWusspVQ7YK9S6lOt9VUXPykqKiInJ4fCwsJrj1zUKV5eXrRv356GDRsaHYoQtWLq3IyVX/9IYVGJYTcyMypRRALDrK/fBbZySaLQWn9f7vURpdRxoCVw1YkiJyeHJk2a0LlzZ5RStY1Z1DFaa/Lz88nJySEwMNDocISoFVMnf5Zt1aQdPsnALs0NicGocxSttda5ANbnVtUtrJQaAHgAB6uYP00ptUcptScvL++y+YWFhTRv3lySRD2jlKJ58+ayJynqtLICgUYefnLYHoVS6j9Am0pmxVxlO22B94AJWuvSypbRWi8HlgOYTKZKC6NIkqif5HMXdZ0rFAh0WKLQWt9a1Tyl1DGlVFutda41ERyvYjlf4BNgntZ6h4NCFUIIl2bq5M//z8iltFTj5ub8Lz9GHXr6GJhgfT0BSLx0AaWUB7ABWK21/tCJsdldXl4eERERBAcHs3HjRtv0yMhIjhw5Uuk6sbGxvPLKK84KEYD4+Pgq46lKUlISJpOJXr160bNnT+bOnQvAxIkTWbdunSPCFKLeMbpAoFGJ4iVghFIqCxhh/RmllEkptdK6zAPAEGCiUirV+ggzJtxr8/777zNhwgRSUlL4+9//DsCmTZvo168f7dq1Mzg6i5KSkqtOFGazmVmzZrFmzRoOHDiA2WymS5cuDoxSiPrJ6AKBhox60lrnA7dUMn0PMMX6eg2wxt7vvWBTJt8cOW3XNnu38+WvdwVVOb9hw4acP3+eCxcu4ObmRnFxMUuXLmXTpk01an/YsGH07duXvXv3kpeXx+rVq/nb3/5GRkYGUVFRLFy4kOzsbEaNGsXAgQPZv38/3bt3Z/Xq1fj4+PDFF18wd+5ciouL6d+/P8uWLcPT05POnTszadIkPvvsM2bMmMGePXt48MEH8fb2JiUlhQULFvDxxx/ToEEDbrvttsv2cOLi4oiJiaFnz54ANGjQgEcffdQ2f9u2bSxevJijR48SFxfH/fffT0FBAZGRkZw4cYKioiIWLlxIZGQk2dnZ3H777URERLB9+3YCAgJITEzE29ub3bt3M3nyZBo1akRERARJSUmYzWZKSkqIjo5m69atXLhwgZkzZzJ9+vRafIJCuLbyBQLHD+zo9PeXK7OdYPz48Xz66aeMGjWK2NhY3nzzTf74xz/i4+NT4zY8PDzYtm0bM2bMIDIykjfeeAOz2Ux8fDz5+fkAfPfdd0ybNo309HR8fX158803KSwsZOLEiaxdu5aMjAyKi4tZtmyZrV0vLy+Sk5N56KGHMJlMJCQkkJqayvnz59mwYQOZmZmkp6czb968y2Iym82Eh4dXGXNubi7Jycls3ryZ6Oho2/tt2LCBffv2sWXLFp566im0tow/yMrKYubMmWRmZuLn58f69esB+NOf/sRbb71FSkoK7u6/jyNftWoVTZs2Zffu3ezevZsVK1bw008/1bhPhagrjC4QaNR1FIap7pu/ozRt2pRPPvkEgBMnTvDyyy/z0UcfMXXqVE6cOMFTTz3FH/7wh2rbuPvuuwHo06cPQUFBtG3bFoAuXbpw+PBh/Pz86NChAzfddBMADz30EP/4xz8YMWIEgYGBdO/eHYAJEybwxhtvMGfOHACioiq/4N3X1xcvLy+mTJnC6NGjufPOO696u8eMGYObmxu9e/fm2LFjgOXahueee45t27bh5ubGL7/8YpsXGBhIWJjl6GJ4eDjZ2dmcPHmSM2fOcOONNwKWpLt582YAPvvsM9LT023nQk6dOkVWVpZcMyGuS6bO/nz2zTHyzlygZRNPp7637FE42fPPP09MTAzvv/8+4eHhvPPOOzz33HNXXM/T0/KL4ebmZntd9nNxcTFw+VBQpZTt23pVGjVqVOn0Bg0asGvXLu677z42btzIqFGjLlsmKCiIvXv3XjFmwBZHQkICeXl57N27l9TUVFq3bm27zqH88u7u7hQXF1cbv9aa119/ndTUVFJTU/npp5+47bbbqt1eIeoqIwsESqJwoqysLI4cOcLQoUM5d+4cbm5uKKXsdkHYoUOHSElJASwn0CMiIujZsyfZ2dn88MMPALz33nsMHTq00vWbNGnCmTNnACgoKODUqVPccccdLF26lNTU1MuWf/rpp3nxxRf5/nvLRfSlpaUsXry42hhPnTpFq1ataNiwIVu2bOHnn3+udnl/f3+aNGnCjh2W0dEffPCBbd7IkSNZtmwZRUVFAHz//fecPXu22vaEqKuMLBBY7w49GSkmJoZFixYBMG7cOMaMGcNrr73G888/b5f2e/Xqxbvvvsv06dPp1q0bjzzyCF5eXvzzn/9k7NixtpPZM2bMqHT9iRMnMmPGDLy9vUlKSiIyMpLCwkK01ixZsuSy5UNCQli6dCnjxo3j3LlzKKUYPXp0tTE++OCD3HXXXZhMJsLCwmwnwquzatUqpk6dSqNGjRg2bBhNmzYFYMqUKWRnZ9OvXz+01rRs2bLC8GMhridGFghUVzo0UdeYTCa9Z8+eCtMOHDhAr169DIrIObKzs7nzzjsxm81Gh2J3BQUFNG7cGICXXnqJ3NxcXnvttRqvXx8+f1E/vJT0LauSfyQjdqTdCwQqpfZqrU2VzZNDT8LlffLJJ4SFhREcHMzXX39d6QgsIeoDUyd/ikosBQKdSQ49XSc6d+58Xe5NgGVkVlWjs4SoT8oXCHRmJVnZoxBCiDrCv5GlQKCzr6eQRCGEEHWIyXrhXWmp884vS6IQQog6JLyTP6fOFzm1QKAkCiGEqEOMKBAoicIJaltmPCAggLCwMNvj5EnHjXQ4efIkb7755lWtU1RURHR0NN26dSM4OJgBAwaQlJQEYBvOKoSwr/IFAp1FEoUT1LbM+BNPPGErT5Gamoqfn59D4ispKalVopg/fz65ubmYzWbMZjObNm2yXdkthHAMIwoE1r/hsUnRcDTDvm226QO3v1Tl7GstM17e4sWLMZvNvPPOO2RkZDBu3Dh27dpFXFwcBw8e5JdffuHw4cM888wzTJ06Fa01zzzzDElJSSilmDdvHlFRUWzdupUFCxbQtm1bUlNTCQkJ4eDBg4SFhTFixAiefPJJoqKiOH36tK3i7ODBg21xnDt3zlattaxGU+vWrXnggQdsy8TExLB582a8vb1JTEykdevWbNq0iYULF3Lx4kWaN29OQkICrVu3JjY2lkOHDvHjjz9y6NAh5syZw+OPPw7ACy+8QEJCAh06dKBFixaEh4czd+5cDh48yMyZM8nLy8PHx4cVK1bU6EpvIeo6ZxcIrH+JwgDjx49n/PjxrF69mpdffrnGZcaXLFnCmjWWW3L4+/uzZcsW5syZw7Bhw9iwYQOLFi3i7bfftrWTnp7Ojh07OHv2LH379mX06NGkpKSQmppKWloav/76K/3792fIkCEA7Nq1C7PZTGBgINnZ2ZjNZltNp1dffZWRI0cSExNDSUkJ586dqxDbDz/8QMeOHfH19a009rNnzzJo0CAWLVrEM888w4oVK5g3bx4RERHs2LEDpRQrV64kLi6OV199FYBvv/2WLVu2cObMGXr06MEjjzxCWloa69evZ//+/RQXF9OvXz9bafNp06bx1ltv0a1bN3bu3Mmjjz7Kl19+WctPSYi6o3yBwFHBbR3+fvUvUVTzzd9Raltm/IknnrDdWrSMm5sb8fHxhISEMH36dFtZcbCc8/D29sbb25vhw4eza9cukpOTGTduHO7u7rRu3ZqhQ4eye/dufH19GTBgQJUlufv378+kSZMoKipizJgxtvLfNeXh4WErTR4eHs7nn38OQE5ODlFRUeTm5nLx4sUK7z969Gg8PT3x9PSkVatWHDt2jOTkZNt2Adx1112ApazH9u3bGTt2rG39CxcuXFWMQtRV5QsEOiNRyDkKJ6ttmfHysrKyaNy48WUnwq+2zHhVJcYBhgwZwrZt2wgICODhhx9m9erVFeZ37dqVQ4cOVXlOomHDhrZ4ykqGAzz22GPMmjWLjIwM3n777QqVc6+mzHhpaSl+fn4VzuEcOHCgyu0R4nri7AKBkiicyB5lxk+dOsXs2bPZtm0b+fn5tpv2ACQmJlJYWEh+fj5bt261HWZau3YtJSUl5OXlsW3bNgYMGHBZu+VLjAP8/PPPtGrViqlTpzJ58mT27dtXYXkfHx8mT57M448/zsWLFwHLHe3KDpVVF39AQAAA77777hW3NyIigk2bNlFYWEhBQYFtz8zX15fAwEA+/PBDwHJvirS0tCu2J8T1IrxTMzKPnKKwqMTh7yWJwoliYmJYuHAhYCkzHh8fz6BBgy47vFRmyZIlFYbHZmdn88QTT/Doo4/SvXt3Vq1aRXR0NMePHwdgwIABjB49mkGDBjF//nzatWvHPffcQ0hICKGhodx8883ExcXRpk2by96refPm3HTTTQQHB/P000+zdetWwsLC6Nu3L+vXr2f27NmXrbNw4UJatmxJ7969CQ4OZsyYMbRs2bLaPoiNjWXs2LEMHjyYFi1aXLHP+vfvz913301oaCj33nsvJpPJVmY8ISGBVatWERoaSlBQEImJiVdsT4jrhTMLBEqZ8etEbGwsjRs3rjLp1GVlZcbPnTvHkCFDWL58Of369avx+vXh8xf1z4mzF+n7wuc8PbIHM4d3veb2qiszXv9OZos6Z9q0aXzzzTcUFhYyYcKEq0oSQlyv/Bt5cEPLRk65nsKQRKGUagasBToD2cADWusTlyzTCfgIcAcaAq9rrd9ybqR1R2xsrNEhOMy//vUvo0MQwiWZOjXj35lHKS3VuLmpK69QS0ado4gGvtBadwO+sP58qVzgRq11GDAQiFZKVX0ZsxBC1DOmzpYCgQcdXCDQqEQRCZQNeXkXGHPpAlrri1rrsoHxnsiJdyGEqMBWINDBh5+M+ufbWmudC2B9blXZQkqpDkqpdOAw8LLWuvIKekIIUQ/ZCgQ6uJKsw85RKKX+A1w+DhNiatqG1vowEGI95LRRKbVOa32skveaBkwD6NixYy0jFkKIuqWsQKCjK8k6bI9Ca32r1jq4kkcicEwp1RbA+nz8Cm0dATKBwVXMX661NmmtTVcax2+E2pQZB1izZg0hISEEBQURGhrKlClTbKXGhw0bRo8ePQgJCaFnz57MmjWrQhlyd3d3wsLCCA4OZuzYsZfVagLLsNPp06dzww03EBQUxJAhQ9i5cyfZ2dkEBwfbsQeEEI5i6uzPz/nnyDvjuBI2Rh16+hiYYH09AbjsSimlVHullLf1tT9wE/Cd0yK0o9qUGf/3v//NkiVLSEpKIjMzk3379nHjjTdy7NjvO1QJCQmkp6eTnp6Op6cnkZGRtnne3t6kpqZiNpvx8PDgrbcuHzA2ZcoUmjVrRlZWFpmZmcTHx/Prr7/aeeuFEI5UvkCgoxh1HcVLwP9TSk0GDgFjAZRSJmCG1noK0At4VSmlAQW8orW+5vrgL+96mW9/+/Zam6mgZ7Oe/HnAn6ucX5sy44sWLeKVV16xlbtwd3dn0qRJlS7r4eFBXFwcXbt2JS0tjdDQ0ArzBw8eTHp6eoVpBw8eZOfOnSQkJODmZvm+0KVLF7p06UJ2djYlJSVMnTqV7du3ExAQQGJiIt7e3qxYsYLly5dz8eJFunbtynvvvYePjw8TJ07E19eXPXv2cPToUeLi4rj//vspLS1l1qxZfPXVVwQGBlJaWsqkSZO4//772bt3L08++SQFBQW0aNGC+Ph42rZ1fIEzIa4nzigQaMgehdY6X2t9i9a6m/X5N+v0PdYkgdb6c611iNY61Pq83IhY7WH8+PF8+umnjBo1itjY2BqVGc/MzLyqC8vc3d0JDQ3l228rJsHi4mKSkpLo06fPZe2HhYXh7u5eaXtZWVnMnDmTzMxM/Pz8WL9+PQD33nsvu3fvJi0tjV69erFq1SrbOrm5uSQnJ7N582aioy0jnj/66COys7PJyMhg5cqVpKSkAJa74z322GOsW7eOvXv3MmnSJGJianz6Sghh5YwCgfXuyuzqvvk7Sm3LjJfJyMjg4Ycf5syZM7z44otERUVVulz5ciznz5+3lQYfPHgwkydPvqqYAwMDbeuHh4eTnZ0NgNlsZt68eZw8eZKCggJGjhxpW2fMmDG4ubnRu3dv2yGy5ORkxo4di5ubG23atGH48OEAfPfdd5jNZkaMGAFY7rInexNC1E54p2asSv6RwqISvBpW/uXvWtS7RGG0S8uMjx8/nsjISLZs2VJhuaCgIPbt28fw4cPp06cPqampzJo1i/Pnz1fabklJCRkZGbaaRmXnKKoSFBREWloapaWltkNP5V1a8rvsfSdOnMjGjRsJDQ0lPj6erVu3VrpOWdKqqpaY1pqgoCDbHoYQovZMnfx56ytLgcCBXZrbvX25iM2JrqbM+LPPPsvcuXPJycmxTasqSRQVFfHss8/SoUMHQkJCahTLDTfcgMlk4q9//avtn3lWVtYVK7CeOXOGtm3bUlRUREJCwhXfJyIigvXr11NaWsqxY8dsiaVHjx7k5eVVOBSVmZlZo9iFEBWFd/IHHHfhnexROFFMTAyLFi0CLGXGx4wZw2uvvcbzzz9/2bJ33HEHeXl53H777ZSUlODn50dwcHCFQz0PPvggnp6eXLhwgVtvvfWqy2yvXLmSp556iq5du+Lj40Pz5s1to7Kq8sILLzBw4EA6depEnz59qrxxUZn77ruPL774guDgYLp3787AgQNp2rQpHh4erFu3jscff5xTp05RXFzMnDlzCAoKuqptEEI4vkCglBkXDldWJjw/P58BAwbw3//+t9J7YjiKfP6iPvjfL7M4X1TC0yN71mp9KTMuDHXnnXdy8uRJLl68yPz5852aJISoL2bd3M1hbUuiEA5X/oS3EKLuqTcns6+3Q2yiZuRzF+La1YtE4eXlRX5+vvzTqGe01uTn5+Pl5WV0KELUafXi0FP79u3JyckhLy/P6FCEk3l5edG+fXujwxCiTqsXiaJhw4YEBgYaHYYQQtRJ9eLQkxBCiNqTRCGEEKJakiiEEEJU67q7MlsplQf8bHQc16gFIHcQ+p30R0XSH7+TvqjoWvqjk9a60luEXneJ4nqglNpT1aX09ZH0R0XSH7+TvqjIUf0hh56EEEJUSxKFEEKIakmicE119ravDiL9UZH0x++kLypySH/IOQohhBDVkj0KIYQQ1ZJEIYQQolqSKJxEKdVBKbVFKXVAKZWplJptnd5MKfW5UirL+uxvna6UUv9QSv2glEpXSvUr11actY0D1mWUUdtVG7Xoi55KqRSl1AWl1NxL2hqllPrO2k/RRmzPtbJXf1TVTl1jz98P63x3pdR+pdRmZ2/LtbLz34qfUmqdUupba3t/qHEgWmt5OOEBtAX6WV83Ab4HegNxQLR1ejTwsvX1HUASoIBBwE7r9BuB/wLu1kcKMMzo7XNwX7QC+gOLgLnl2nEHDgJdAA8gDeht9PYZ2B+VtmP09hnVH+XaexL4F7DZ6G0zsi+Ad4Ep1tcegF9N45A9CifRWudqrfdZX58BDgABQCSWDxDr8xjr60hgtbbYAfgppdoCGvDC8kF7Ag2BY07bEDu42r7QWh/XWu8Gii5pagDwg9b6R631ReADaxt1ir36o5p26hQ7/n6glGoPjAZWOiF0u7NXXyilfIEhwCrrche11idrGockCgMopToDfYGdQGutdS5YfimwfCMAyy/D4XKr5QABWusUYAuQa318qrU+4JzI7a+GfVGVSvvI/lE6zzX2R1Xt1Fl26I+lwDNAqYNCdJpr7IsuQB7wT+thuJVKqUY1fW9JFE6mlGoMrAfmaK1PV7doJdO0Uqor0Atoj+Wf4s1KqSH2j9TxrqIvqmyikml1dry3HfrDru0Y7Vq3Qyl1J3Bca73X7sE5mR0+0wZAP2CZ1rovcBbLIasakUThREqphlg+7ASt9UfWycesh5SwPh+3Ts8BOpRbvT1wBLgH2KG1LtCBxPmmAAAC1UlEQVRaF2A5jzHIGfHb01X2RVWq6qM6x079UVU7dY6d+uMm4G6lVDaWw5I3K6XWOChkh7Hj30qO1rpsD3MdlsRRI5IonMQ6MmkVcEBrvbjcrI+BCdbXE4DEctP/aB39NAg4Zd3FPAQMVUo1sP4CDcVy3LLOqEVfVGU30E0pFaiU8gD+x9pGnWKv/qimnTrFXv2htX5Wa91ea90Zy+/Gl1rrhxwQssPYsS+OAoeVUj2sk24BvqlxIEaf1a8vDyACy2GRdCDV+rgDaA58AWRZn5tZl1fAG1hG9WQAJut0d+BtLMnhG2Cx0dvmhL5og+Ub0WngpPW1r3XeHVhGghwEYozeNiP7o6p2jN4+I38/yrU5jLo56smefythwB5rWxsB/5rGISU8hBBCVEsOPQkhhKiWJAohhBDVkkQhhBCiWpIohBBCVEsShRBCiGpJohDiGlmvdUlWSt1ebtoDSql/GxmXEPYiw2OFsAOlVDDwIZZaPO5YxruP0lofvIY2G2iti+0UohC1JolCCDtRSsVhqaHTCDijtX5BKTUBmIml2u92YJbWulQptRxLCQVvYK3W+nlrGzlYLqgcBSzVWn9owKYIUUEDowMQ4jqyANgHXARM1r2Me4AbtdbF1uTwP1jujRCttf5NKdUA2KKUWqe1LiupcFZrfZMRGyBEZSRRCGEnWuuzSqm1QIHW+oJS6lYsN5HZYynZgze/l0Ufp5SajOVvsB2Wm9GUJYq1zo1ciOpJohDCvkr5/d4HCnhHaz2//AJKqW7AbGCA1vqktaKpV7lFzjolUiFqSEY9CeE4/wEeUEq1AFBKNVdKdcRSwO8McNpaInqkgTEKcUWyRyGEg2itM5RSC4D/KKXcsNyecgaWCp7fAGbgRyz3QBfCZcmoJyGEENWSQ09CCCGqJYlCCCFEtSRRCCGEqJYkCiGEENWSRCGEEKJakiiEEEJUSxKFEEKIav0f2mAyu8ChAyYAAAAASUVORK5CYII=\n",
      "text/plain": [
       "<Figure size 432x288 with 1 Axes>"
      ]
     },
     "metadata": {
      "needs_background": "light"
     },
     "output_type": "display_data"
    }
   ],
   "source": [
    "#exports and imports against gdp\n",
    "plt.plot(pct_chg.index, pct_chg['Imports'], label=\"% Imports Change\")\n",
    "plt.plot(pct_chg.index, pct_chg['Exports'], label=\"% Exports Change\")\n",
    "plt.plot(pct_gdp['TIME'], pct_gdp['United States'], label = '% GDP Change')\n",
    "\n",
    "plt.title(\"US Agricultural Trade % Change Year over Year\")\n",
    "plt.xlabel(\"Year\")\n",
    "plt.ylabel(\"% Change\")\n",
    "plt.savefig(\"Percent_Change.png\")\n",
    "plt.legend()\n",
    "plt.savefig(\"Percent_change_with_gdp.png\")\n",
    "plt.show()\n"
   ]
  },
  {
   "cell_type": "code",
<<<<<<< HEAD
=======
   "execution_count": 29,
   "metadata": {},
   "outputs": [
    {
     "name": "stdout",
     "output_type": "stream",
     "text": [
      "The correlation coefficient between Exports and GDP is 0.27\n"
     ]
    }
   ],
   "source": [
    "pct_chg_import=pct_chg['Imports'].dropna()\n",
    "pct_chg_export=pct_chg['Exports'].dropna()\n",
    "pct_chg_gdp=pct_gdp['United States'].dropna()\n",
    "\n",
    "#malic_acid = wine_data.malic_acid\n",
    "#flavanoids = wine_data.flavanoids\n",
    "\n",
    "print(f\"The correlation coefficient between Exports and GDP is {round(st.pearsonr(pct_chg_import,pct_chg_gdp)[0],2)}\")\n",
    "print(f\"The correlation coefficient between Imports and GDP is {round(st.pearsonr(pct_chg_import,pct_chg_gdp)[0],2)}\")\n",
    "print(f\"The correlation coefficient between Exports and GDP is {round(st.pearsonr(pct_chg_import,pct_chg_gdp)[0],2)}\")"
   ]
  },
  {
   "cell_type": "code",
>>>>>>> de002fe313e787d984ce260d2830b89636da4bf4
   "execution_count": null,
   "metadata": {},
   "outputs": [],
   "source": []
  }
 ],
 "metadata": {
  "kernelspec": {
   "display_name": "Python 3",
   "language": "python",
   "name": "python3"
  },
  "language_info": {
   "codemirror_mode": {
    "name": "ipython",
    "version": 3
   },
   "file_extension": ".py",
   "mimetype": "text/x-python",
   "name": "python",
   "nbconvert_exporter": "python",
   "pygments_lexer": "ipython3",
   "version": "3.6.9"
  }
 },
 "nbformat": 4,
 "nbformat_minor": 2
}
