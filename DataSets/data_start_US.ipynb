{
 "cells": [
  {
   "cell_type": "code",
   "execution_count": 1,
   "metadata": {},
   "outputs": [],
   "source": [
    "#import dependencies\n",
    "import pandas as pd\n",
    "import numpy as np\n",
    "import matplotlib.pyplot as plt"
   ]
  },
  {
   "cell_type": "code",
   "execution_count": 2,
   "metadata": {},
   "outputs": [],
   "source": [
    "data_exports_load = \"exports_conversion.csv\"\n",
    "data_imports_load= \"imports_conversion.csv\"\n"
   ]
  },
  {
   "cell_type": "code",
   "execution_count": 3,
   "metadata": {},
   "outputs": [
    {
     "data": {
      "text/html": [
       "<div>\n",
       "<style scoped>\n",
       "    .dataframe tbody tr th:only-of-type {\n",
       "        vertical-align: middle;\n",
       "    }\n",
       "\n",
       "    .dataframe tbody tr th {\n",
       "        vertical-align: top;\n",
       "    }\n",
       "\n",
       "    .dataframe thead th {\n",
       "        text-align: right;\n",
       "    }\n",
       "</style>\n",
       "<table border=\"1\" class=\"dataframe\">\n",
       "  <thead>\n",
       "    <tr style=\"text-align: right;\">\n",
       "      <th></th>\n",
       "      <th>Unnamed: 0</th>\n",
       "      <th>COMMODITY_DESC</th>\n",
       "      <th>GEOGRAPHY_DESC</th>\n",
       "      <th>UNIT_DESC</th>\n",
       "      <th>YEAR_ID</th>\n",
       "      <th>AMOUNT</th>\n",
       "      <th>Metric Tons</th>\n",
       "    </tr>\n",
       "  </thead>\n",
       "  <tbody>\n",
       "    <tr>\n",
       "      <th>0</th>\n",
       "      <td>19094</td>\n",
       "      <td>Chicken</td>\n",
       "      <td>Afghanistan</td>\n",
       "      <td>KG</td>\n",
       "      <td>2006</td>\n",
       "      <td>9.862200e+05</td>\n",
       "      <td>986.220000</td>\n",
       "    </tr>\n",
       "    <tr>\n",
       "      <th>1</th>\n",
       "      <td>19095</td>\n",
       "      <td>Chicken</td>\n",
       "      <td>Afghanistan</td>\n",
       "      <td>KG</td>\n",
       "      <td>2006</td>\n",
       "      <td>9.810000e+04</td>\n",
       "      <td>98.100000</td>\n",
       "    </tr>\n",
       "    <tr>\n",
       "      <th>2</th>\n",
       "      <td>19096</td>\n",
       "      <td>Chicken</td>\n",
       "      <td>Afghanistan</td>\n",
       "      <td>KG</td>\n",
       "      <td>2006</td>\n",
       "      <td>5.490000e+04</td>\n",
       "      <td>54.900000</td>\n",
       "    </tr>\n",
       "    <tr>\n",
       "      <th>3</th>\n",
       "      <td>19097</td>\n",
       "      <td>Chicken</td>\n",
       "      <td>Afghanistan</td>\n",
       "      <td>KG</td>\n",
       "      <td>2006</td>\n",
       "      <td>7.537550e+05</td>\n",
       "      <td>753.755000</td>\n",
       "    </tr>\n",
       "    <tr>\n",
       "      <th>4</th>\n",
       "      <td>19242</td>\n",
       "      <td>Chicken</td>\n",
       "      <td>Afghanistan</td>\n",
       "      <td>CWE</td>\n",
       "      <td>2006</td>\n",
       "      <td>3.770924e+06</td>\n",
       "      <td>171049.128969</td>\n",
       "    </tr>\n",
       "    <tr>\n",
       "      <th>...</th>\n",
       "      <td>...</td>\n",
       "      <td>...</td>\n",
       "      <td>...</td>\n",
       "      <td>...</td>\n",
       "      <td>...</td>\n",
       "      <td>...</td>\n",
       "      <td>...</td>\n",
       "    </tr>\n",
       "    <tr>\n",
       "      <th>528013</th>\n",
       "      <td>975181</td>\n",
       "      <td>Chicken</td>\n",
       "      <td>Zimbabwe</td>\n",
       "      <td>KG</td>\n",
       "      <td>2012</td>\n",
       "      <td>2.444340e+05</td>\n",
       "      <td>244.434000</td>\n",
       "    </tr>\n",
       "    <tr>\n",
       "      <th>528014</th>\n",
       "      <td>128517</td>\n",
       "      <td>Beef</td>\n",
       "      <td>Zimbabwe</td>\n",
       "      <td>CWE</td>\n",
       "      <td>2013</td>\n",
       "      <td>8.240015e+04</td>\n",
       "      <td>3737.670772</td>\n",
       "    </tr>\n",
       "    <tr>\n",
       "      <th>528015</th>\n",
       "      <td>399936</td>\n",
       "      <td>Beef</td>\n",
       "      <td>Zimbabwe</td>\n",
       "      <td>KG</td>\n",
       "      <td>2013</td>\n",
       "      <td>2.630300e+04</td>\n",
       "      <td>26.303000</td>\n",
       "    </tr>\n",
       "    <tr>\n",
       "      <th>528016</th>\n",
       "      <td>565085</td>\n",
       "      <td>Beef</td>\n",
       "      <td>Zimbabwe</td>\n",
       "      <td>KG</td>\n",
       "      <td>2013</td>\n",
       "      <td>2.630300e+04</td>\n",
       "      <td>26.303000</td>\n",
       "    </tr>\n",
       "    <tr>\n",
       "      <th>528017</th>\n",
       "      <td>816466</td>\n",
       "      <td>Beef</td>\n",
       "      <td>Zimbabwe</td>\n",
       "      <td>CWE</td>\n",
       "      <td>2013</td>\n",
       "      <td>8.240015e+04</td>\n",
       "      <td>3737.670772</td>\n",
       "    </tr>\n",
       "  </tbody>\n",
       "</table>\n",
       "<p>528018 rows × 7 columns</p>\n",
       "</div>"
      ],
      "text/plain": [
       "        Unnamed: 0 COMMODITY_DESC GEOGRAPHY_DESC UNIT_DESC  YEAR_ID  \\\n",
       "0            19094        Chicken    Afghanistan        KG     2006   \n",
       "1            19095        Chicken    Afghanistan        KG     2006   \n",
       "2            19096        Chicken    Afghanistan        KG     2006   \n",
       "3            19097        Chicken    Afghanistan        KG     2006   \n",
       "4            19242        Chicken    Afghanistan       CWE     2006   \n",
       "...            ...            ...            ...       ...      ...   \n",
       "528013      975181        Chicken       Zimbabwe        KG     2012   \n",
       "528014      128517           Beef       Zimbabwe       CWE     2013   \n",
       "528015      399936           Beef       Zimbabwe        KG     2013   \n",
       "528016      565085           Beef       Zimbabwe        KG     2013   \n",
       "528017      816466           Beef       Zimbabwe       CWE     2013   \n",
       "\n",
       "              AMOUNT    Metric Tons  \n",
       "0       9.862200e+05     986.220000  \n",
       "1       9.810000e+04      98.100000  \n",
       "2       5.490000e+04      54.900000  \n",
       "3       7.537550e+05     753.755000  \n",
       "4       3.770924e+06  171049.128969  \n",
       "...              ...            ...  \n",
       "528013  2.444340e+05     244.434000  \n",
       "528014  8.240015e+04    3737.670772  \n",
       "528015  2.630300e+04      26.303000  \n",
       "528016  2.630300e+04      26.303000  \n",
       "528017  8.240015e+04    3737.670772  \n",
       "\n",
       "[528018 rows x 7 columns]"
      ]
     },
     "execution_count": 3,
     "metadata": {},
     "output_type": "execute_result"
    }
   ],
   "source": [
    "data_exports = pd.read_csv(data_exports_load)\n",
    "data_imports = pd.read_csv(data_imports_load)\n",
    "data_exports"
   ]
  },
  {
   "cell_type": "code",
   "execution_count": 4,
   "metadata": {},
   "outputs": [
    {
     "data": {
      "text/plain": [
       "array(['Chicken', 'Pork', 'Beef', 'Turkey', 'Sheep', 'Goat'], dtype=object)"
      ]
     },
     "execution_count": 4,
     "metadata": {},
     "output_type": "execute_result"
    }
   ],
   "source": [
    "commodity=data_exports.COMMODITY_DESC.unique()\n",
    "commodity"
   ]
  },
  {
   "cell_type": "code",
   "execution_count": 5,
   "metadata": {},
   "outputs": [
    {
     "data": {
      "text/plain": [
       "array(['Beef', 'Sheep',\n",
       "       'Animal livers except goose, prepared or preserved', 'Pork',\n",
       "       'Chicken', 'Goat',\n",
       "       'Shoulders and cuts, boned, cooked, airtight container 1 kg or more',\n",
       "       'Bison with bone in, fresh or chilled', 'Turkey',\n",
       "       'Bison meat, fresh or chilled, boneless',\n",
       "       'Shoulders and cuts, bone in, salted, in brine, dried or smoked',\n",
       "       'Shoulders and cuts thereof nesoi, prepared or preserved',\n",
       "       'Shoulders and cuts, boned, cooked, airtight container less than 1 kg',\n",
       "       'Cows, live, imported for dairy purposes, weigh 90 kg or more',\n",
       "       'Cows, live, imported for dairy purposes, weighing less than 90 kg',\n",
       "       'Cows, live, imported specially for dairy puposes, weighing  90 kg  or more each,',\n",
       "       'Cows, live, imported specially for dairy puposes, weighing less than 90 kg each,'],\n",
       "      dtype=object)"
      ]
     },
     "execution_count": 5,
     "metadata": {},
     "output_type": "execute_result"
    }
   ],
   "source": [
    "imports=data_imports.COMMODITY_DESC.unique()\n",
    "imports"
   ]
  },
  {
   "cell_type": "code",
   "execution_count": 6,
   "metadata": {},
   "outputs": [],
   "source": [
    "data_imports.loc[data_imports['COMMODITY_DESC'].str.contains('cow', case=False),'COMMODITY_DESC']='Beef'\n",
    "data_imports.loc[data_imports['COMMODITY_DESC'].str.contains('shoulder', case=False),'COMMODITY_DESC']='Beef'\n",
    "data_imports.loc[data_imports['COMMODITY_DESC'].str.contains('bison', case=False),'COMMODITY_DESC']='Beef'\n",
    "data_imports.loc[data_imports['COMMODITY_DESC'].str.contains('liver', case=False),'COMMODITY_DESC']='Chicken'"
   ]
  },
  {
   "cell_type": "code",
   "execution_count": 7,
   "metadata": {},
   "outputs": [
    {
     "data": {
      "text/plain": [
       "array(['Beef', 'Sheep', 'Chicken', 'Pork', 'Goat', 'Turkey'], dtype=object)"
      ]
     },
     "execution_count": 7,
     "metadata": {},
     "output_type": "execute_result"
    }
   ],
   "source": [
    "imports=data_imports.COMMODITY_DESC.unique()\n",
    "imports\n"
   ]
  },
  {
   "cell_type": "code",
   "execution_count": null,
   "metadata": {},
   "outputs": [],
   "source": []
  },
  {
   "cell_type": "code",
   "execution_count": 8,
   "metadata": {},
   "outputs": [
    {
     "data": {
      "text/html": [
       "<div>\n",
       "<style scoped>\n",
       "    .dataframe tbody tr th:only-of-type {\n",
       "        vertical-align: middle;\n",
       "    }\n",
       "\n",
       "    .dataframe tbody tr th {\n",
       "        vertical-align: top;\n",
       "    }\n",
       "\n",
       "    .dataframe thead th {\n",
       "        text-align: right;\n",
       "    }\n",
       "</style>\n",
       "<table border=\"1\" class=\"dataframe\">\n",
       "  <thead>\n",
       "    <tr style=\"text-align: right;\">\n",
       "      <th></th>\n",
       "      <th>YEAR_ID</th>\n",
       "      <th>Metric Tons</th>\n",
       "    </tr>\n",
       "  </thead>\n",
       "  <tbody>\n",
       "    <tr>\n",
       "      <th>0</th>\n",
       "      <td>2006</td>\n",
       "      <td>137.101000</td>\n",
       "    </tr>\n",
       "    <tr>\n",
       "      <th>1</th>\n",
       "      <td>2006</td>\n",
       "      <td>87.009000</td>\n",
       "    </tr>\n",
       "    <tr>\n",
       "      <th>2</th>\n",
       "      <td>2006</td>\n",
       "      <td>9.386000</td>\n",
       "    </tr>\n",
       "    <tr>\n",
       "      <th>3</th>\n",
       "      <td>2006</td>\n",
       "      <td>19.475000</td>\n",
       "    </tr>\n",
       "    <tr>\n",
       "      <th>4</th>\n",
       "      <td>2006</td>\n",
       "      <td>122.693000</td>\n",
       "    </tr>\n",
       "    <tr>\n",
       "      <th>...</th>\n",
       "      <td>...</td>\n",
       "      <td>...</td>\n",
       "    </tr>\n",
       "    <tr>\n",
       "      <th>96704</th>\n",
       "      <td>2016</td>\n",
       "      <td>22546.772899</td>\n",
       "    </tr>\n",
       "    <tr>\n",
       "      <th>96705</th>\n",
       "      <td>2016</td>\n",
       "      <td>28264.267461</td>\n",
       "    </tr>\n",
       "    <tr>\n",
       "      <th>96706</th>\n",
       "      <td>2016</td>\n",
       "      <td>18668.108750</td>\n",
       "    </tr>\n",
       "    <tr>\n",
       "      <th>96707</th>\n",
       "      <td>2016</td>\n",
       "      <td>28945.478727</td>\n",
       "    </tr>\n",
       "    <tr>\n",
       "      <th>96708</th>\n",
       "      <td>2016</td>\n",
       "      <td>38032.829022</td>\n",
       "    </tr>\n",
       "  </tbody>\n",
       "</table>\n",
       "<p>96709 rows × 2 columns</p>\n",
       "</div>"
      ],
      "text/plain": [
       "       YEAR_ID   Metric Tons\n",
       "0         2006    137.101000\n",
       "1         2006     87.009000\n",
       "2         2006      9.386000\n",
       "3         2006     19.475000\n",
       "4         2006    122.693000\n",
       "...        ...           ...\n",
       "96704     2016  22546.772899\n",
       "96705     2016  28264.267461\n",
       "96706     2016  18668.108750\n",
       "96707     2016  28945.478727\n",
       "96708     2016  38032.829022\n",
       "\n",
       "[96709 rows x 2 columns]"
      ]
     },
     "execution_count": 8,
     "metadata": {},
     "output_type": "execute_result"
    }
   ],
   "source": [
    "table_new_imports = data_imports.loc[:,['YEAR_ID','Metric Tons']]\n",
    "table_new_imports"
   ]
  },
  {
   "cell_type": "code",
   "execution_count": 9,
   "metadata": {},
   "outputs": [
    {
     "data": {
      "text/html": [
       "<div>\n",
       "<style scoped>\n",
       "    .dataframe tbody tr th:only-of-type {\n",
       "        vertical-align: middle;\n",
       "    }\n",
       "\n",
       "    .dataframe tbody tr th {\n",
       "        vertical-align: top;\n",
       "    }\n",
       "\n",
       "    .dataframe thead th {\n",
       "        text-align: right;\n",
       "    }\n",
       "</style>\n",
       "<table border=\"1\" class=\"dataframe\">\n",
       "  <thead>\n",
       "    <tr style=\"text-align: right;\">\n",
       "      <th></th>\n",
       "      <th>Metric Tons</th>\n",
       "    </tr>\n",
       "    <tr>\n",
       "      <th>YEAR_ID</th>\n",
       "      <th></th>\n",
       "    </tr>\n",
       "  </thead>\n",
       "  <tbody>\n",
       "    <tr>\n",
       "      <th>2006</th>\n",
       "      <td>8.388916e+08</td>\n",
       "    </tr>\n",
       "    <tr>\n",
       "      <th>2007</th>\n",
       "      <td>8.411989e+08</td>\n",
       "    </tr>\n",
       "    <tr>\n",
       "      <th>2008</th>\n",
       "      <td>7.182489e+08</td>\n",
       "    </tr>\n",
       "    <tr>\n",
       "      <th>2009</th>\n",
       "      <td>7.216136e+08</td>\n",
       "    </tr>\n",
       "    <tr>\n",
       "      <th>2010</th>\n",
       "      <td>6.648807e+08</td>\n",
       "    </tr>\n",
       "    <tr>\n",
       "      <th>2011</th>\n",
       "      <td>6.081964e+08</td>\n",
       "    </tr>\n",
       "    <tr>\n",
       "      <th>2012</th>\n",
       "      <td>6.373839e+08</td>\n",
       "    </tr>\n",
       "    <tr>\n",
       "      <th>2013</th>\n",
       "      <td>6.582723e+08</td>\n",
       "    </tr>\n",
       "    <tr>\n",
       "      <th>2014</th>\n",
       "      <td>8.160736e+08</td>\n",
       "    </tr>\n",
       "    <tr>\n",
       "      <th>2015</th>\n",
       "      <td>9.230333e+08</td>\n",
       "    </tr>\n",
       "    <tr>\n",
       "      <th>2016</th>\n",
       "      <td>6.188682e+08</td>\n",
       "    </tr>\n",
       "  </tbody>\n",
       "</table>\n",
       "</div>"
      ],
      "text/plain": [
       "          Metric Tons\n",
       "YEAR_ID              \n",
       "2006     8.388916e+08\n",
       "2007     8.411989e+08\n",
       "2008     7.182489e+08\n",
       "2009     7.216136e+08\n",
       "2010     6.648807e+08\n",
       "2011     6.081964e+08\n",
       "2012     6.373839e+08\n",
       "2013     6.582723e+08\n",
       "2014     8.160736e+08\n",
       "2015     9.230333e+08\n",
       "2016     6.188682e+08"
      ]
     },
     "execution_count": 9,
     "metadata": {},
     "output_type": "execute_result"
    }
   ],
   "source": [
    "years_data=table_new_imports.groupby([\"YEAR_ID\"]).sum()\n",
    "years_data"
   ]
  },
  {
   "cell_type": "code",
   "execution_count": 10,
   "metadata": {},
   "outputs": [
    {
     "data": {
      "text/html": [
       "<div>\n",
       "<style scoped>\n",
       "    .dataframe tbody tr th:only-of-type {\n",
       "        vertical-align: middle;\n",
       "    }\n",
       "\n",
       "    .dataframe tbody tr th {\n",
       "        vertical-align: top;\n",
       "    }\n",
       "\n",
       "    .dataframe thead th {\n",
       "        text-align: right;\n",
       "    }\n",
       "</style>\n",
       "<table border=\"1\" class=\"dataframe\">\n",
       "  <thead>\n",
       "    <tr style=\"text-align: right;\">\n",
       "      <th></th>\n",
       "      <th>YEAR_ID</th>\n",
       "      <th>Metric Tons</th>\n",
       "    </tr>\n",
       "  </thead>\n",
       "  <tbody>\n",
       "    <tr>\n",
       "      <th>0</th>\n",
       "      <td>2006</td>\n",
       "      <td>986.220000</td>\n",
       "    </tr>\n",
       "    <tr>\n",
       "      <th>1</th>\n",
       "      <td>2006</td>\n",
       "      <td>98.100000</td>\n",
       "    </tr>\n",
       "    <tr>\n",
       "      <th>2</th>\n",
       "      <td>2006</td>\n",
       "      <td>54.900000</td>\n",
       "    </tr>\n",
       "    <tr>\n",
       "      <th>3</th>\n",
       "      <td>2006</td>\n",
       "      <td>753.755000</td>\n",
       "    </tr>\n",
       "    <tr>\n",
       "      <th>4</th>\n",
       "      <td>2006</td>\n",
       "      <td>171049.128969</td>\n",
       "    </tr>\n",
       "    <tr>\n",
       "      <th>...</th>\n",
       "      <td>...</td>\n",
       "      <td>...</td>\n",
       "    </tr>\n",
       "    <tr>\n",
       "      <th>528013</th>\n",
       "      <td>2012</td>\n",
       "      <td>244.434000</td>\n",
       "    </tr>\n",
       "    <tr>\n",
       "      <th>528014</th>\n",
       "      <td>2013</td>\n",
       "      <td>3737.670772</td>\n",
       "    </tr>\n",
       "    <tr>\n",
       "      <th>528015</th>\n",
       "      <td>2013</td>\n",
       "      <td>26.303000</td>\n",
       "    </tr>\n",
       "    <tr>\n",
       "      <th>528016</th>\n",
       "      <td>2013</td>\n",
       "      <td>26.303000</td>\n",
       "    </tr>\n",
       "    <tr>\n",
       "      <th>528017</th>\n",
       "      <td>2013</td>\n",
       "      <td>3737.670772</td>\n",
       "    </tr>\n",
       "  </tbody>\n",
       "</table>\n",
       "<p>528018 rows × 2 columns</p>\n",
       "</div>"
      ],
      "text/plain": [
       "        YEAR_ID    Metric Tons\n",
       "0          2006     986.220000\n",
       "1          2006      98.100000\n",
       "2          2006      54.900000\n",
       "3          2006     753.755000\n",
       "4          2006  171049.128969\n",
       "...         ...            ...\n",
       "528013     2012     244.434000\n",
       "528014     2013    3737.670772\n",
       "528015     2013      26.303000\n",
       "528016     2013      26.303000\n",
       "528017     2013    3737.670772\n",
       "\n",
       "[528018 rows x 2 columns]"
      ]
     },
     "execution_count": 10,
     "metadata": {},
     "output_type": "execute_result"
    }
   ],
   "source": [
    "table_new_exports = data_exports.loc[:,['YEAR_ID','Metric Tons']]\n",
    "table_new_exports"
   ]
  },
  {
   "cell_type": "code",
   "execution_count": 11,
   "metadata": {},
   "outputs": [
    {
     "data": {
      "text/html": [
       "<div>\n",
       "<style scoped>\n",
       "    .dataframe tbody tr th:only-of-type {\n",
       "        vertical-align: middle;\n",
       "    }\n",
       "\n",
       "    .dataframe tbody tr th {\n",
       "        vertical-align: top;\n",
       "    }\n",
       "\n",
       "    .dataframe thead th {\n",
       "        text-align: right;\n",
       "    }\n",
       "</style>\n",
       "<table border=\"1\" class=\"dataframe\">\n",
       "  <thead>\n",
       "    <tr style=\"text-align: right;\">\n",
       "      <th></th>\n",
       "      <th>Metric Tons</th>\n",
       "    </tr>\n",
       "    <tr>\n",
       "      <th>YEAR_ID</th>\n",
       "      <th></th>\n",
       "    </tr>\n",
       "  </thead>\n",
       "  <tbody>\n",
       "    <tr>\n",
       "      <th>2006</th>\n",
       "      <td>1.833618e+09</td>\n",
       "    </tr>\n",
       "    <tr>\n",
       "      <th>2007</th>\n",
       "      <td>2.037404e+09</td>\n",
       "    </tr>\n",
       "    <tr>\n",
       "      <th>2008</th>\n",
       "      <td>2.631688e+09</td>\n",
       "    </tr>\n",
       "    <tr>\n",
       "      <th>2009</th>\n",
       "      <td>2.454298e+09</td>\n",
       "    </tr>\n",
       "    <tr>\n",
       "      <th>2010</th>\n",
       "      <td>2.536776e+09</td>\n",
       "    </tr>\n",
       "    <tr>\n",
       "      <th>2011</th>\n",
       "      <td>2.867232e+09</td>\n",
       "    </tr>\n",
       "    <tr>\n",
       "      <th>2012</th>\n",
       "      <td>2.910035e+09</td>\n",
       "    </tr>\n",
       "    <tr>\n",
       "      <th>2013</th>\n",
       "      <td>2.868072e+09</td>\n",
       "    </tr>\n",
       "    <tr>\n",
       "      <th>2014</th>\n",
       "      <td>2.884786e+09</td>\n",
       "    </tr>\n",
       "    <tr>\n",
       "      <th>2015</th>\n",
       "      <td>2.596649e+09</td>\n",
       "    </tr>\n",
       "    <tr>\n",
       "      <th>2016</th>\n",
       "      <td>2.760425e+09</td>\n",
       "    </tr>\n",
       "  </tbody>\n",
       "</table>\n",
       "</div>"
      ],
      "text/plain": [
       "          Metric Tons\n",
       "YEAR_ID              \n",
       "2006     1.833618e+09\n",
       "2007     2.037404e+09\n",
       "2008     2.631688e+09\n",
       "2009     2.454298e+09\n",
       "2010     2.536776e+09\n",
       "2011     2.867232e+09\n",
       "2012     2.910035e+09\n",
       "2013     2.868072e+09\n",
       "2014     2.884786e+09\n",
       "2015     2.596649e+09\n",
       "2016     2.760425e+09"
      ]
     },
     "execution_count": 11,
     "metadata": {},
     "output_type": "execute_result"
    }
   ],
   "source": [
    "years_data_2=table_new_exports.groupby([\"YEAR_ID\"]).sum()\n",
    "years_data_2"
   ]
  },
  {
   "cell_type": "code",
   "execution_count": 12,
   "metadata": {
    "scrolled": true
   },
   "outputs": [
    {
     "data": {
      "text/plain": [
       "<function matplotlib.pyplot.show(*args, **kw)>"
      ]
     },
     "execution_count": 12,
     "metadata": {},
     "output_type": "execute_result"
    },
    {
     "data": {
      "image/png": "[encoded data removed]",
      "text/plain": [
       "<Figure size 576x432 with 1 Axes>"
      ]
     },
     "metadata": {
      "needs_background": "light"
     },
     "output_type": "display_data"
    },
    {
     "data": {
      "image/png": "[encoded data removed]",
      "text/plain": [
       "<Figure size 576x432 with 1 Axes>"
      ]
     },
     "metadata": {
      "needs_background": "light"
     },
     "output_type": "display_data"
    }
   ],
   "source": [
    "ax = years_data.plot(figsize=(8,6), legend = False)\n",
    "#ax.set_prop_cycle(None)\n",
    "years_data.plot(figsize=(8,6), markersize=14, ax = ax)\n",
    "ax = years_data_2.plot(figsize=(8,6), legend = False)\n",
    "#ax.set_prop_cycle(None)\n",
    "years_data_2.plot(figsize=(8,6), markersize=14, ax = ax)\n",
    "\n",
    "#ax = years_data.plot(figsize=(12,8), y=years_data_2, legend = False)\n",
    "plt.show"
   ]
  },
  {
   "cell_type": "code",
   "execution_count": 13,
   "metadata": {},
   "outputs": [
    {
     "data": {
      "text/plain": [
       "<function matplotlib.pyplot.show(*args, **kw)>"
      ]
     },
     "execution_count": 13,
     "metadata": {},
     "output_type": "execute_result"
    },
    {
     "data": {
      "image/png": "[encoded data removed]",
      "text/plain": [
       "<Figure size 576x432 with 1 Axes>"
      ]
     },
     "metadata": {
      "needs_background": "light"
     },
     "output_type": "display_data"
    }
   ],
   "source": [
    "ax = years_data_2.plot(figsize=(8,6), legend = False)\n",
    "#ax.set_prop_cycle(None)\n",
    "years_data_2.plot(figsize=(8,6), markersize=14, ax = ax)\n",
    "\n",
    "#ax = years_data.plot(figsize=(12,8), y=years_data_2, legend = False)\n",
    "plt.show"
   ]
  },
  {
   "cell_type": "code",
   "execution_count": 12,
   "metadata": {},
   "outputs": [
    {
     "data": {
      "text/html": [
       "<div>\n",
       "<style scoped>\n",
       "    .dataframe tbody tr th:only-of-type {\n",
       "        vertical-align: middle;\n",
       "    }\n",
       "\n",
       "    .dataframe tbody tr th {\n",
       "        vertical-align: top;\n",
       "    }\n",
       "\n",
       "    .dataframe thead th {\n",
       "        text-align: right;\n",
       "    }\n",
       "</style>\n",
       "<table border=\"1\" class=\"dataframe\">\n",
       "  <thead>\n",
       "    <tr style=\"text-align: right;\">\n",
       "      <th></th>\n",
       "      <th>Imports</th>\n",
       "      <th>Exports</th>\n",
       "    </tr>\n",
       "    <tr>\n",
       "      <th>YEAR_ID</th>\n",
       "      <th></th>\n",
       "      <th></th>\n",
       "    </tr>\n",
       "  </thead>\n",
       "  <tbody>\n",
       "    <tr>\n",
       "      <th>2006</th>\n",
       "      <td>8.388916e+08</td>\n",
       "      <td>1.833618e+09</td>\n",
       "    </tr>\n",
       "    <tr>\n",
       "      <th>2007</th>\n",
       "      <td>8.411989e+08</td>\n",
       "      <td>2.037404e+09</td>\n",
       "    </tr>\n",
       "    <tr>\n",
       "      <th>2008</th>\n",
       "      <td>7.182489e+08</td>\n",
       "      <td>2.631688e+09</td>\n",
       "    </tr>\n",
       "    <tr>\n",
       "      <th>2009</th>\n",
       "      <td>7.216136e+08</td>\n",
       "      <td>2.454298e+09</td>\n",
       "    </tr>\n",
       "    <tr>\n",
       "      <th>2010</th>\n",
       "      <td>6.648807e+08</td>\n",
       "      <td>2.536776e+09</td>\n",
       "    </tr>\n",
       "    <tr>\n",
       "      <th>2011</th>\n",
       "      <td>6.081964e+08</td>\n",
       "      <td>2.867232e+09</td>\n",
       "    </tr>\n",
       "    <tr>\n",
       "      <th>2012</th>\n",
       "      <td>6.373839e+08</td>\n",
       "      <td>2.910035e+09</td>\n",
       "    </tr>\n",
       "    <tr>\n",
       "      <th>2013</th>\n",
       "      <td>6.582723e+08</td>\n",
       "      <td>2.868072e+09</td>\n",
       "    </tr>\n",
       "    <tr>\n",
       "      <th>2014</th>\n",
       "      <td>8.160736e+08</td>\n",
       "      <td>2.884786e+09</td>\n",
       "    </tr>\n",
       "    <tr>\n",
       "      <th>2015</th>\n",
       "      <td>9.230333e+08</td>\n",
       "      <td>2.596649e+09</td>\n",
       "    </tr>\n",
       "    <tr>\n",
       "      <th>2016</th>\n",
       "      <td>6.188682e+08</td>\n",
       "      <td>2.760425e+09</td>\n",
       "    </tr>\n",
       "  </tbody>\n",
       "</table>\n",
       "</div>"
      ],
      "text/plain": [
       "              Imports       Exports\n",
       "YEAR_ID                            \n",
       "2006     8.388916e+08  1.833618e+09\n",
       "2007     8.411989e+08  2.037404e+09\n",
       "2008     7.182489e+08  2.631688e+09\n",
       "2009     7.216136e+08  2.454298e+09\n",
       "2010     6.648807e+08  2.536776e+09\n",
       "2011     6.081964e+08  2.867232e+09\n",
       "2012     6.373839e+08  2.910035e+09\n",
       "2013     6.582723e+08  2.868072e+09\n",
       "2014     8.160736e+08  2.884786e+09\n",
       "2015     9.230333e+08  2.596649e+09\n",
       "2016     6.188682e+08  2.760425e+09"
      ]
     },
     "execution_count": 12,
     "metadata": {},
     "output_type": "execute_result"
    }
   ],
   "source": [
    "merged_data=years_data.merge(years_data_2, on = \"YEAR_ID\")\n",
    "merged_data=merged_data.rename(columns={\"Metric Tons_x\": \"Imports\",\"Metric Tons_y\":\"Exports\"})\n",
    "\n",
    "merged_data"
   ]
  },
  {
   "cell_type": "code",
   "execution_count": 13,
   "metadata": {},
   "outputs": [
    {
     "data": {
      "image/png": "[encoded data removed]",
      "text/plain": [
       "<Figure size 432x288 with 1 Axes>"
      ]
     },
     "metadata": {
      "needs_background": "light"
     },
     "output_type": "display_data"
    }
   ],
   "source": [
    "plt.plot(merged_data.index, merged_data['Imports'], label=\"Imports\")\n",
    "plt.plot(merged_data.index, merged_data['Exports'], label=\"Exports\")\n",
    "\n",
    "\n",
    "plt.title(\"US Agricultural Trade\")\n",
    "plt.xlabel(\"Year\")\n",
    "plt.ylabel(\"Volume in Metric Tons\")\n",
    "plt.legend()\n",
    "plt.savefig(\"Aggregate_Trade.png\")\n",
    "plt.show()"
   ]
  },
  {
   "cell_type": "code",
   "execution_count": 14,
   "metadata": {},
   "outputs": [
    {
     "data": {
      "text/html": [
       "<div>\n",
       "<style scoped>\n",
       "    .dataframe tbody tr th:only-of-type {\n",
       "        vertical-align: middle;\n",
       "    }\n",
       "\n",
       "    .dataframe tbody tr th {\n",
       "        vertical-align: top;\n",
       "    }\n",
       "\n",
       "    .dataframe thead th {\n",
       "        text-align: right;\n",
       "    }\n",
       "</style>\n",
       "<table border=\"1\" class=\"dataframe\">\n",
       "  <thead>\n",
       "    <tr style=\"text-align: right;\">\n",
       "      <th></th>\n",
       "      <th>Imports</th>\n",
       "      <th>Exports</th>\n",
       "    </tr>\n",
       "    <tr>\n",
       "      <th>YEAR_ID</th>\n",
       "      <th></th>\n",
       "      <th></th>\n",
       "    </tr>\n",
       "  </thead>\n",
       "  <tbody>\n",
       "    <tr>\n",
       "      <th>2006</th>\n",
       "      <td>NaN</td>\n",
       "      <td>NaN</td>\n",
       "    </tr>\n",
       "    <tr>\n",
       "      <th>2007</th>\n",
       "      <td>0.002750</td>\n",
       "      <td>0.111139</td>\n",
       "    </tr>\n",
       "    <tr>\n",
       "      <th>2008</th>\n",
       "      <td>-0.146160</td>\n",
       "      <td>0.291687</td>\n",
       "    </tr>\n",
       "    <tr>\n",
       "      <th>2009</th>\n",
       "      <td>0.004685</td>\n",
       "      <td>-0.067406</td>\n",
       "    </tr>\n",
       "    <tr>\n",
       "      <th>2010</th>\n",
       "      <td>-0.078619</td>\n",
       "      <td>0.033606</td>\n",
       "    </tr>\n",
       "    <tr>\n",
       "      <th>2011</th>\n",
       "      <td>-0.085255</td>\n",
       "      <td>0.130266</td>\n",
       "    </tr>\n",
       "    <tr>\n",
       "      <th>2012</th>\n",
       "      <td>0.047990</td>\n",
       "      <td>0.014928</td>\n",
       "    </tr>\n",
       "    <tr>\n",
       "      <th>2013</th>\n",
       "      <td>0.032772</td>\n",
       "      <td>-0.014420</td>\n",
       "    </tr>\n",
       "    <tr>\n",
       "      <th>2014</th>\n",
       "      <td>0.239720</td>\n",
       "      <td>0.005828</td>\n",
       "    </tr>\n",
       "    <tr>\n",
       "      <th>2015</th>\n",
       "      <td>0.131066</td>\n",
       "      <td>-0.099882</td>\n",
       "    </tr>\n",
       "    <tr>\n",
       "      <th>2016</th>\n",
       "      <td>-0.329528</td>\n",
       "      <td>0.063072</td>\n",
       "    </tr>\n",
       "  </tbody>\n",
       "</table>\n",
       "</div>"
      ],
      "text/plain": [
       "          Imports   Exports\n",
       "YEAR_ID                    \n",
       "2006          NaN       NaN\n",
       "2007     0.002750  0.111139\n",
       "2008    -0.146160  0.291687\n",
       "2009     0.004685 -0.067406\n",
       "2010    -0.078619  0.033606\n",
       "2011    -0.085255  0.130266\n",
       "2012     0.047990  0.014928\n",
       "2013     0.032772 -0.014420\n",
       "2014     0.239720  0.005828\n",
       "2015     0.131066 -0.099882\n",
       "2016    -0.329528  0.063072"
      ]
     },
     "execution_count": 14,
     "metadata": {},
     "output_type": "execute_result"
    }
   ],
   "source": [
    "pct_chg = merged_data.pct_change()\n",
    "pct_chg"
   ]
  },
  {
   "cell_type": "code",
   "execution_count": 15,
   "metadata": {},
   "outputs": [
    {
     "data": {
      "image/png": "[encoded data removed]",
      "text/plain": [
       "<Figure size 432x288 with 1 Axes>"
      ]
     },
     "metadata": {
      "needs_background": "light"
     },
     "output_type": "display_data"
    }
   ],
   "source": [
    "plt.plot(pct_chg.index, pct_chg['Imports'], label=\"% Imports Change\")\n",
    "plt.plot(pct_chg.index, pct_chg['Exports'], label=\"% Exports Change\")\n",
    "\n",
    "\n",
    "plt.title(\"US Agricultural Trade % Change Year over Year\")\n",
    "plt.xlabel(\"Year\")\n",
    "plt.ylabel(\"% Change\")\n",
    "plt.savefig(\"Percent_Change.png\")\n",
    "plt.legend()\n",
    "plt.show()"
   ]
  },
  {
   "cell_type": "code",
   "execution_count": null,
   "metadata": {},
   "outputs": [],
   "source": []
  }
 ],
 "metadata": {
  "kernelspec": {
   "display_name": "Python 3",
   "language": "python",
   "name": "python3"
  },
  "language_info": {
   "codemirror_mode": {
    "name": "ipython",
    "version": 3
   },
   "file_extension": ".py",
   "mimetype": "text/x-python",
   "name": "python",
   "nbconvert_exporter": "python",
   "pygments_lexer": "ipython3",
   "version": "3.6.9"
  }
 },
 "nbformat": 4,
 "nbformat_minor": 2
}
