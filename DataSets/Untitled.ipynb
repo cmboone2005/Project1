{
 "cells": [
  {
   "cell_type": "code",
   "execution_count": 13,
   "metadata": {},
   "outputs": [],
   "source": [
    "import pandas as pd\n",
    "import numpy as np\n",
    "import matplotlib.pyplot as plt\n"
   ]
  },
  {
   "cell_type": "code",
   "execution_count": 14,
   "metadata": {},
   "outputs": [
    {
     "data": {
      "text/html": [
       "<div>\n",
       "<style scoped>\n",
       "    .dataframe tbody tr th:only-of-type {\n",
       "        vertical-align: middle;\n",
       "    }\n",
       "\n",
       "    .dataframe tbody tr th {\n",
       "        vertical-align: top;\n",
       "    }\n",
       "\n",
       "    .dataframe thead th {\n",
       "        text-align: right;\n",
       "    }\n",
       "</style>\n",
       "<table border=\"1\" class=\"dataframe\">\n",
       "  <thead>\n",
       "    <tr style=\"text-align: right;\">\n",
       "      <th></th>\n",
       "      <th>Unnamed: 0</th>\n",
       "      <th>COMMODITY_DESC</th>\n",
       "      <th>GEOGRAPHY_DESC</th>\n",
       "      <th>UNIT_DESC</th>\n",
       "      <th>YEAR_ID</th>\n",
       "      <th>AMOUNT</th>\n",
       "      <th>Metric Tons</th>\n",
       "    </tr>\n",
       "  </thead>\n",
       "  <tbody>\n",
       "    <tr>\n",
       "      <th>0</th>\n",
       "      <td>30128</td>\n",
       "      <td>Beef</td>\n",
       "      <td>Argentina</td>\n",
       "      <td>KG</td>\n",
       "      <td>2006</td>\n",
       "      <td>137101.0</td>\n",
       "      <td>137.101</td>\n",
       "    </tr>\n",
       "    <tr>\n",
       "      <th>1</th>\n",
       "      <td>30129</td>\n",
       "      <td>Beef</td>\n",
       "      <td>Argentina</td>\n",
       "      <td>KG</td>\n",
       "      <td>2006</td>\n",
       "      <td>87009.0</td>\n",
       "      <td>87.009</td>\n",
       "    </tr>\n",
       "    <tr>\n",
       "      <th>2</th>\n",
       "      <td>30150</td>\n",
       "      <td>Beef</td>\n",
       "      <td>Argentina</td>\n",
       "      <td>KG</td>\n",
       "      <td>2006</td>\n",
       "      <td>9386.0</td>\n",
       "      <td>9.386</td>\n",
       "    </tr>\n",
       "    <tr>\n",
       "      <th>3</th>\n",
       "      <td>30151</td>\n",
       "      <td>Beef</td>\n",
       "      <td>Argentina</td>\n",
       "      <td>KG</td>\n",
       "      <td>2006</td>\n",
       "      <td>19475.0</td>\n",
       "      <td>19.475</td>\n",
       "    </tr>\n",
       "    <tr>\n",
       "      <th>4</th>\n",
       "      <td>30152</td>\n",
       "      <td>Beef</td>\n",
       "      <td>Argentina</td>\n",
       "      <td>KG</td>\n",
       "      <td>2006</td>\n",
       "      <td>122693.0</td>\n",
       "      <td>122.693</td>\n",
       "    </tr>\n",
       "  </tbody>\n",
       "</table>\n",
       "</div>"
      ],
      "text/plain": [
       "   Unnamed: 0 COMMODITY_DESC GEOGRAPHY_DESC UNIT_DESC  YEAR_ID    AMOUNT  \\\n",
       "0       30128           Beef      Argentina        KG     2006  137101.0   \n",
       "1       30129           Beef      Argentina        KG     2006   87009.0   \n",
       "2       30150           Beef      Argentina        KG     2006    9386.0   \n",
       "3       30151           Beef      Argentina        KG     2006   19475.0   \n",
       "4       30152           Beef      Argentina        KG     2006  122693.0   \n",
       "\n",
       "   Metric Tons  \n",
       "0      137.101  \n",
       "1       87.009  \n",
       "2        9.386  \n",
       "3       19.475  \n",
       "4      122.693  "
      ]
     },
     "execution_count": 14,
     "metadata": {},
     "output_type": "execute_result"
    }
   ],
   "source": [
    "# load in datasets\n",
    "conversion_new_load_import = \"imports_conversion.csv\"\n",
    "conversion_new_load_export = \"exports_conversion.csv\"\n",
    "\n",
    "# read in csv\n",
    "\n",
    "new_import_df = pd.read_csv(conversion_new_load_import)\n",
    "new_export_df = pd.read_csv(conversion_new_load_export)\n",
    "\n",
    "# see if it works\n",
    "\n",
    "new_import_df.head()"
   ]
  },
  {
   "cell_type": "code",
   "execution_count": null,
   "metadata": {},
   "outputs": [],
   "source": []
  }
 ],
 "metadata": {
  "kernelspec": {
   "display_name": "Python 3",
   "language": "python",
   "name": "python3"
  },
  "language_info": {
   "codemirror_mode": {
    "name": "ipython",
    "version": 3
   },
   "file_extension": ".py",
   "mimetype": "text/x-python",
   "name": "python",
   "nbconvert_exporter": "python",
   "pygments_lexer": "ipython3",
   "version": "3.6.9"
  }
 },
 "nbformat": 4,
 "nbformat_minor": 2
}
